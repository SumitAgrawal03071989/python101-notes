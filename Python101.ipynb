{
 "cells": [
  {
   "cell_type": "markdown",
   "id": "634dd1ce",
   "metadata": {},
   "source": [
    "# Chapter 6 - Python Comprehensions\n",
    "The Python language has a couple of methods for creating lists and dictionaries that are known as comprehensions"
   ]
  },
  {
   "cell_type": "markdown",
   "id": "4a0c9fb6",
   "metadata": {},
   "source": [
    "## List Comprehensions"
   ]
  },
  {
   "cell_type": "markdown",
   "id": "3d4ed9cf",
   "metadata": {},
   "source": [
    "A list comprehension is basically a one line for loop that produces a Python list data structure.m"
   ]
  },
  {
   "cell_type": "code",
   "execution_count": 1,
   "id": "ea49d12e",
   "metadata": {},
   "outputs": [],
   "source": [
    "x = [i for i in range(5)]"
   ]
  },
  {
   "cell_type": "code",
   "execution_count": 2,
   "id": "50351930",
   "metadata": {},
   "outputs": [
    {
     "data": {
      "text/plain": [
       "[0, 1, 2, 3, 4]"
      ]
     },
     "execution_count": 2,
     "metadata": {},
     "output_type": "execute_result"
    }
   ],
   "source": [
    "x"
   ]
  },
  {
   "cell_type": "markdown",
   "id": "a2492462",
   "metadata": {},
   "source": [
    "Say you want to apply a function to every element in a list"
   ]
  },
  {
   "cell_type": "code",
   "execution_count": 3,
   "id": "407d4e93",
   "metadata": {},
   "outputs": [],
   "source": [
    "x = ['1', '2', '3', '4', '5']\n",
    "y = [int(i) for i in x]"
   ]
  },
  {
   "cell_type": "code",
   "execution_count": 4,
   "id": "5bdc2579",
   "metadata": {},
   "outputs": [
    {
     "data": {
      "text/plain": [
       "[1, 2, 3, 4, 5]"
      ]
     },
     "execution_count": 4,
     "metadata": {},
     "output_type": "execute_result"
    }
   ],
   "source": [
    "y"
   ]
  },
  {
   "cell_type": "markdown",
   "id": "b7839247",
   "metadata": {},
   "source": [
    "There are also occasions where one needs to create a nested list comprehension.\n",
    "One reason to do that is to flatten multiple lists into one"
   ]
  },
  {
   "cell_type": "code",
   "execution_count": 5,
   "id": "ff221e9d",
   "metadata": {},
   "outputs": [
    {
     "data": {
      "text/plain": [
       "[1, 2, 3, 4, 5, 6, 7, 8, 9]"
      ]
     },
     "execution_count": 5,
     "metadata": {},
     "output_type": "execute_result"
    }
   ],
   "source": [
    "vec = [[1,2,3], [4,5,6], [7,8,9]]\n",
    "[num for elem in vec for num in elem]"
   ]
  },
  {
   "cell_type": "markdown",
   "id": "e1345804",
   "metadata": {},
   "source": [
    "## Dictionary Comprehensions"
   ]
  },
  {
   "cell_type": "code",
   "execution_count": 6,
   "id": "0c077963",
   "metadata": {},
   "outputs": [
    {
     "data": {
      "text/plain": [
       "{0: '0', 1: '1', 2: '2', 3: '3', 4: '4'}"
      ]
     },
     "execution_count": 6,
     "metadata": {},
     "output_type": "execute_result"
    }
   ],
   "source": [
    "{i:str(i) for i in range(5)}"
   ]
  },
  {
   "cell_type": "code",
   "execution_count": 9,
   "id": "1f3e961d",
   "metadata": {},
   "outputs": [
    {
     "data": {
      "text/plain": [
       "{'dog': 1, 'cat': 2, 'hamster': 3}"
      ]
     },
     "execution_count": 9,
     "metadata": {},
     "output_type": "execute_result"
    }
   ],
   "source": [
    "# This is a pretty straightforward comprehension. Basically it is creating an integer key and string value for each item in the range.\n",
    "my_dict = {1:\"dog\", 2:\"cat\", 3:\"hamster\"}\n",
    "{value:key for key,value in my_dict.items()}\n",
    "# This will only work if the dictionary values are of a non-mutable type, such as a string. Otherwise you will end up causing an exception to be raised.\n",
    "# But why?"
   ]
  },
  {
   "cell_type": "markdown",
   "id": "8aa03f2b",
   "metadata": {},
   "source": [
    "## Set Comprehensions"
   ]
  },
  {
   "cell_type": "markdown",
   "id": "a56b5fda",
   "metadata": {},
   "source": [
    "Set comprehensions are created in much the same way as dictionary comprehensions."
   ]
  },
  {
   "cell_type": "code",
   "execution_count": 11,
   "id": "21a74658",
   "metadata": {},
   "outputs": [
    {
     "data": {
      "text/plain": [
       "{1, 2, 3, 4, 5, 7, 8}"
      ]
     },
     "execution_count": 11,
     "metadata": {},
     "output_type": "execute_result"
    }
   ],
   "source": [
    "my_list = [1, 2, 2, 3, 4, 5, 5, 7, 8]\n",
    "my_set = {x for x in my_list}\n",
    "my_set"
   ]
  },
  {
   "cell_type": "markdown",
   "id": "c0b1ec10",
   "metadata": {},
   "source": [
    "# Chapter 7: Exception Handeling"
   ]
  },
  {
   "cell_type": "code",
   "execution_count": 12,
   "id": "da49d1b0",
   "metadata": {},
   "outputs": [
    {
     "ename": "ZeroDivisionError",
     "evalue": "division by zero",
     "output_type": "error",
     "traceback": [
      "\u001b[0;31m---------------------------------------------------------------------------\u001b[0m",
      "\u001b[0;31mZeroDivisionError\u001b[0m                         Traceback (most recent call last)",
      "\u001b[0;32m<ipython-input-12-9e1622b385b6>\u001b[0m in \u001b[0;36m<module>\u001b[0;34m\u001b[0m\n\u001b[0;32m----> 1\u001b[0;31m \u001b[0;36m1\u001b[0m\u001b[0;34m/\u001b[0m\u001b[0;36m0\u001b[0m\u001b[0;34m\u001b[0m\u001b[0;34m\u001b[0m\u001b[0m\n\u001b[0m",
      "\u001b[0;31mZeroDivisionError\u001b[0m: division by zero"
     ]
    }
   ],
   "source": [
    "1/0"
   ]
  },
  {
   "cell_type": "code",
   "execution_count": 15,
   "id": "8486fb62",
   "metadata": {},
   "outputs": [
    {
     "name": "stdout",
     "output_type": "stream",
     "text": [
      "You cannot divide by zero!\n"
     ]
    }
   ],
   "source": [
    "try:\n",
    "    1 / 0\n",
    "except:\n",
    "    print(\"You cannot divide by zero!\")"
   ]
  },
  {
   "cell_type": "markdown",
   "id": "752d0788",
   "metadata": {},
   "source": [
    "This is not recommended! In Python, this is known as a bare except, which means it will catch any and all exceptions. The reason this is not recommended is that you don’t know which exception you are catching"
   ]
  },
  {
   "cell_type": "code",
   "execution_count": 16,
   "id": "e4e73d5f",
   "metadata": {},
   "outputs": [
    {
     "name": "stdout",
     "output_type": "stream",
     "text": [
      "That key does not exist!\n"
     ]
    }
   ],
   "source": [
    "my_dict = {\"a\":1, \"b\":2, \"c\":3}\n",
    "try:\n",
    "    value = my_dict[\"d\"]\n",
    "except KeyError:\n",
    "    print(\"That key does not exist!\")"
   ]
  },
  {
   "cell_type": "code",
   "execution_count": 17,
   "id": "ba1ba4c7",
   "metadata": {},
   "outputs": [
    {
     "name": "stdout",
     "output_type": "stream",
     "text": [
      "That index is not in the list!\n"
     ]
    }
   ],
   "source": [
    "my_list = [1, 2, 3, 4, 5]\n",
    "try:\n",
    "    my_list[6]\n",
    "except IndexError:\n",
    "    print(\"That index is not in the list!\")"
   ]
  },
  {
   "cell_type": "markdown",
   "id": "71191588",
   "metadata": {},
   "source": [
    "You can also catch multiple exceptions with a single statement. There are a couple of different ways to do this."
   ]
  },
  {
   "cell_type": "code",
   "execution_count": 18,
   "id": "ad3252a1",
   "metadata": {},
   "outputs": [
    {
     "name": "stdout",
     "output_type": "stream",
     "text": [
      "This key is not in the dictionary!\n"
     ]
    }
   ],
   "source": [
    "my_dict = {\"a\":1, \"b\":2, \"c\":3}\n",
    "try:\n",
    "    value = my_dict[\"d\"]\n",
    "except IndexError:\n",
    "    print(\"This index does not exist!\")\n",
    "except KeyError:\n",
    "    print(\"This key is not in the dictionary!\")\n",
    "except:\n",
    "    print(\"Some other error occurred!\")"
   ]
  },
  {
   "cell_type": "markdown",
   "id": "bd8d3b5b",
   "metadata": {},
   "source": [
    "Here’s another way to catch multiple exceptions:"
   ]
  },
  {
   "cell_type": "code",
   "execution_count": 19,
   "id": "17bcb940",
   "metadata": {},
   "outputs": [
    {
     "name": "stdout",
     "output_type": "stream",
     "text": [
      "An IndexError or KeyError occurred!\n"
     ]
    }
   ],
   "source": [
    "try:\n",
    "    value = my_dict[\"d\"]\n",
    "except (IndexError, KeyError):\n",
    "    print(\"An IndexError or KeyError occurred!\")"
   ]
  },
  {
   "cell_type": "markdown",
   "id": "69058ab9",
   "metadata": {},
   "source": [
    "**The else will only run if there are no errors raised.**"
   ]
  },
  {
   "cell_type": "code",
   "execution_count": 21,
   "id": "c221062b",
   "metadata": {},
   "outputs": [
    {
     "name": "stdout",
     "output_type": "stream",
     "text": [
      "No error occurred!\n",
      "The finally statement ran!\n"
     ]
    }
   ],
   "source": [
    "\n",
    "my_dict = {\"a\":1, \"b\":2, \"c\":3}\n",
    "\n",
    "try:\n",
    "    value = my_dict[\"a\"]\n",
    "except KeyError:\n",
    "    print(\"A KeyError occurred!\")\n",
    "else:\n",
    "    print(\"No error occurred!\")\n",
    "finally:\n",
    "    print(\"The finally statement ran!\")"
   ]
  },
  {
   "cell_type": "markdown",
   "id": "731cf48a",
   "metadata": {},
   "source": [
    "# Chapter 8 - Working with Files"
   ]
  },
  {
   "cell_type": "code",
   "execution_count": 31,
   "id": "9d133554",
   "metadata": {},
   "outputs": [
    {
     "name": "stdout",
     "output_type": "stream",
     "text": [
      "/home/sumit/projects/python101-notes/resources\n"
     ]
    },
    {
     "data": {
      "text/plain": [
       "'/home/sumit/projects/python101-notes/resources'"
      ]
     },
     "execution_count": 31,
     "metadata": {},
     "output_type": "execute_result"
    }
   ],
   "source": [
    "%cd /home/sumit/projects/python101-notes/resources/\n",
    "%pwd"
   ]
  },
  {
   "cell_type": "code",
   "execution_count": 32,
   "id": "0dd422f5",
   "metadata": {},
   "outputs": [],
   "source": [
    "handle = open(\"test.txt\")"
   ]
  },
  {
   "cell_type": "code",
   "execution_count": 38,
   "id": "6c31a232",
   "metadata": {},
   "outputs": [],
   "source": [
    "handle = open(\"/home/sumit/projects/python101-notes/resources/test.txt\", \"r\")"
   ]
  },
  {
   "cell_type": "markdown",
   "id": "b7e0684d",
   "metadata": {},
   "source": [
    "The second example does show a fully qualified path to the file, but you’ll notice that it begins with an “r”. This means that we want Python to treat the string as a raw string. Let’s take a moment to see the difference between specifying a raw string versus a regular string:"
   ]
  },
  {
   "cell_type": "code",
   "execution_count": 36,
   "id": "6fbc2ce1",
   "metadata": {},
   "outputs": [
    {
     "name": "stdout",
     "output_type": "stream",
     "text": [
      "/home/sumit/projects/python101-notes/resources/test.txt\n"
     ]
    }
   ],
   "source": [
    "print(\"/home/sumit/projects/python101-notes/resources/test.txt\")"
   ]
  },
  {
   "cell_type": "code",
   "execution_count": 37,
   "id": "4981c01f",
   "metadata": {},
   "outputs": [
    {
     "name": "stdout",
     "output_type": "stream",
     "text": [
      "/home/sumit/projects/python101-notes/resources/test.txt\n"
     ]
    }
   ],
   "source": [
    "print(r\"/home/sumit/projects/python101-notes/resources/test.txt\")"
   ]
  },
  {
   "cell_type": "markdown",
   "id": "e595c348",
   "metadata": {},
   "source": [
    "(applicable to path in windows machine )As you can see, when we don’t specify it as a raw string, we get an invalid path. Why does this happen? Well, as you might recall from the strings chapter, there are certain special characters that need to be escaped, such as “n” or “t”. In this case, we see there’s a “t” (i.e. a tab), so the string obediently adds a tab to our path and screws it up for us."
   ]
  },
  {
   "cell_type": "code",
   "execution_count": 40,
   "id": "fe62ec40",
   "metadata": {},
   "outputs": [
    {
     "name": "stdout",
     "output_type": "stream",
     "text": [
      "This is a test file\n",
      "line 2\n",
      "line 3\n",
      "this line intentionally left blank\n"
     ]
    }
   ],
   "source": [
    "handle = open(\"test.txt\", \"r\")\n",
    "data = handle.read()\n",
    "print(data)\n",
    "handle.close()"
   ]
  },
  {
   "cell_type": "markdown",
   "id": "9ed4cc2d",
   "metadata": {},
   "source": [
    "**Writing Files in Python**"
   ]
  },
  {
   "cell_type": "code",
   "execution_count": 42,
   "id": "b2f02fef",
   "metadata": {},
   "outputs": [],
   "source": [
    "handle = open(\"test.txt\", \"w\")\n",
    "handle.write(\"This is a test!\")\n",
    "handle.close()"
   ]
  },
  {
   "cell_type": "markdown",
   "id": "14a8e3a7",
   "metadata": {},
   "source": [
    "**Using the with Operator**"
   ]
  },
  {
   "cell_type": "code",
   "execution_count": 47,
   "id": "9ab16824",
   "metadata": {},
   "outputs": [
    {
     "name": "stdout",
     "output_type": "stream",
     "text": [
      "This is a test1!\n"
     ]
    }
   ],
   "source": [
    "with open(\"test.txt\") as file_handler:\n",
    "    for line in file_handler:\n",
    "        print(line)"
   ]
  },
  {
   "cell_type": "code",
   "execution_count": 46,
   "id": "b15a7f03",
   "metadata": {},
   "outputs": [],
   "source": [
    "with open(\"test.txt\",\"w\") as file_handler:\n",
    "    file_handler.write(\"This is a test1!\")"
   ]
  },
  {
   "cell_type": "markdown",
   "id": "21729674",
   "metadata": {},
   "source": [
    "* You can do all the usual file I/O operations that you would normally do as long as you are within the with code block.\n",
    "* Once you leave that code block, the file handle will close and you won’t be able to use it any more."
   ]
  },
  {
   "cell_type": "markdown",
   "id": "3dd0113c",
   "metadata": {},
   "source": [
    "# Chapter 9 - Importing "
   ]
  },
  {
   "cell_type": "code",
   "execution_count": 48,
   "id": "904c2290",
   "metadata": {},
   "outputs": [
    {
     "name": "stdout",
     "output_type": "stream",
     "text": [
      "The Zen of Python, by Tim Peters\n",
      "\n",
      "Beautiful is better than ugly.\n",
      "Explicit is better than implicit.\n",
      "Simple is better than complex.\n",
      "Complex is better than complicated.\n",
      "Flat is better than nested.\n",
      "Sparse is better than dense.\n",
      "Readability counts.\n",
      "Special cases aren't special enough to break the rules.\n",
      "Although practicality beats purity.\n",
      "Errors should never pass silently.\n",
      "Unless explicitly silenced.\n",
      "In the face of ambiguity, refuse the temptation to guess.\n",
      "There should be one-- and preferably only one --obvious way to do it.\n",
      "Although that way may not be obvious at first unless you're Dutch.\n",
      "Now is better than never.\n",
      "Although never is often better than *right* now.\n",
      "If the implementation is hard to explain, it's a bad idea.\n",
      "If the implementation is easy to explain, it may be a good idea.\n",
      "Namespaces are one honking great idea -- let's do more of those!\n"
     ]
    }
   ],
   "source": [
    "import this"
   ]
  },
  {
   "cell_type": "code",
   "execution_count": 49,
   "id": "bd8c0341",
   "metadata": {},
   "outputs": [
    {
     "data": {
      "text/plain": [
       "2.0"
      ]
     },
     "execution_count": 49,
     "metadata": {},
     "output_type": "execute_result"
    }
   ],
   "source": [
    "import math\n",
    "math.sqrt(4)"
   ]
  },
  {
   "cell_type": "markdown",
   "id": "a51267d8",
   "metadata": {},
   "source": [
    "You can actually import just the functions you want from a module.\n",
    "Let’s pretend that we want to just import the sqrt function:"
   ]
  },
  {
   "cell_type": "code",
   "execution_count": 50,
   "id": "65362bc8",
   "metadata": {},
   "outputs": [
    {
     "data": {
      "text/plain": [
       "4.0"
      ]
     },
     "execution_count": 50,
     "metadata": {},
     "output_type": "execute_result"
    }
   ],
   "source": [
    "from math import sqrt\n",
    "sqrt(16)"
   ]
  },
  {
   "cell_type": "markdown",
   "id": "405dfbc8",
   "metadata": {},
   "source": [
    "A function is a structure that you define. You get to decide if they have arguments or not. You can add keyword arguments and default arguments too. A function is a block of code that starts with the def keyword, a name for the function and a colon. Here’s a simple example:"
   ]
  },
  {
   "cell_type": "code",
   "execution_count": 51,
   "id": "8c120a32",
   "metadata": {},
   "outputs": [],
   "source": [
    "def a_function():\n",
    "        print(\"You just created a function!\")"
   ]
  },
  {
   "cell_type": "code",
   "execution_count": 52,
   "id": "f52479ef",
   "metadata": {},
   "outputs": [
    {
     "name": "stdout",
     "output_type": "stream",
     "text": [
      "You just created a function!\n"
     ]
    }
   ],
   "source": [
    "a_function()"
   ]
  },
  {
   "cell_type": "code",
   "execution_count": 53,
   "id": "a0310d1c",
   "metadata": {},
   "outputs": [],
   "source": [
    "def empty_function():\n",
    "        pass"
   ]
  },
  {
   "cell_type": "markdown",
   "id": "65fed7d2",
   "metadata": {},
   "source": [
    "**Passing Arguments to a Function**"
   ]
  },
  {
   "cell_type": "markdown",
   "id": "a92f563f",
   "metadata": {},
   "source": [
    "All functions return something. If you don’t tell it to return something, then it will return None. "
   ]
  },
  {
   "cell_type": "code",
   "execution_count": 55,
   "id": "771eb8dc",
   "metadata": {},
   "outputs": [],
   "source": [
    "def add(a, b):\n",
    "    return a + b"
   ]
  },
  {
   "cell_type": "code",
   "execution_count": 56,
   "id": "571403ff",
   "metadata": {},
   "outputs": [
    {
     "data": {
      "text/plain": [
       "5"
      ]
     },
     "execution_count": 56,
     "metadata": {},
     "output_type": "execute_result"
    }
   ],
   "source": [
    "add(a=2, b=3)"
   ]
  },
  {
   "cell_type": "markdown",
   "id": "554776d8",
   "metadata": {},
   "source": [
    "**Keyword Arguments**"
   ]
  },
  {
   "cell_type": "code",
   "execution_count": 58,
   "id": "c8202508",
   "metadata": {},
   "outputs": [],
   "source": [
    "def keyword_function(a=1, b=2):\n",
    "    return a+b"
   ]
  },
  {
   "cell_type": "code",
   "execution_count": 59,
   "id": "76eb9fd3",
   "metadata": {},
   "outputs": [
    {
     "data": {
      "text/plain": [
       "9"
      ]
     },
     "execution_count": 59,
     "metadata": {},
     "output_type": "execute_result"
    }
   ],
   "source": [
    "keyword_function(b=4, a=5)"
   ]
  },
  {
   "cell_type": "code",
   "execution_count": 60,
   "id": "5325f0ef",
   "metadata": {},
   "outputs": [
    {
     "data": {
      "text/plain": [
       "3"
      ]
     },
     "execution_count": 60,
     "metadata": {},
     "output_type": "execute_result"
    }
   ],
   "source": [
    "keyword_function()"
   ]
  },
  {
   "cell_type": "markdown",
   "id": "dba57a19",
   "metadata": {},
   "source": [
    "**\\*args and **kwargs**"
   ]
  },
  {
   "cell_type": "code",
   "execution_count": 61,
   "id": "49356d4d",
   "metadata": {},
   "outputs": [],
   "source": [
    "def many(*args, **kwargs):\n",
    "        print(args)\n",
    "        print(kwargs)"
   ]
  },
  {
   "cell_type": "code",
   "execution_count": 62,
   "id": "7e34ba18",
   "metadata": {},
   "outputs": [
    {
     "name": "stdout",
     "output_type": "stream",
     "text": [
      "(1, 2, 3)\n",
      "{'name': 'Mike', 'job': 'programmer'}\n"
     ]
    }
   ],
   "source": [
    "many(1, 2, 3, name=\"Mike\", job=\"programmer\")"
   ]
  },
  {
   "cell_type": "code",
   "execution_count": 64,
   "id": "c5b6e8ce",
   "metadata": {},
   "outputs": [
    {
     "name": "stdout",
     "output_type": "stream",
     "text": [
      "3\n",
      "4\n"
     ]
    }
   ],
   "source": [
    "# here a is available globally, its not limited to function a now\n",
    "def function_a():\n",
    "    global a\n",
    "    a = 1\n",
    "    b = 2\n",
    "    return a+b\n",
    "\n",
    "def function_b():\n",
    "    c = 3\n",
    "    return a+c\n",
    "\n",
    "print(function_a())\n",
    "print(function_b())"
   ]
  },
  {
   "cell_type": "markdown",
   "id": "de0d985c",
   "metadata": {},
   "source": [
    "# Chapter 11 - Classes"
   ]
  },
  {
   "cell_type": "code",
   "execution_count": 65,
   "id": "5480f341",
   "metadata": {},
   "outputs": [
    {
     "data": {
      "text/plain": [
       "['__add__',\n",
       " '__class__',\n",
       " '__contains__',\n",
       " '__delattr__',\n",
       " '__dir__',\n",
       " '__doc__',\n",
       " '__eq__',\n",
       " '__format__',\n",
       " '__ge__',\n",
       " '__getattribute__',\n",
       " '__getitem__',\n",
       " '__getnewargs__',\n",
       " '__gt__',\n",
       " '__hash__',\n",
       " '__init__',\n",
       " '__init_subclass__',\n",
       " '__iter__',\n",
       " '__le__',\n",
       " '__len__',\n",
       " '__lt__',\n",
       " '__mod__',\n",
       " '__mul__',\n",
       " '__ne__',\n",
       " '__new__',\n",
       " '__reduce__',\n",
       " '__reduce_ex__',\n",
       " '__repr__',\n",
       " '__rmod__',\n",
       " '__rmul__',\n",
       " '__setattr__',\n",
       " '__sizeof__',\n",
       " '__str__',\n",
       " '__subclasshook__',\n",
       " 'capitalize',\n",
       " 'casefold',\n",
       " 'center',\n",
       " 'count',\n",
       " 'encode',\n",
       " 'endswith',\n",
       " 'expandtabs',\n",
       " 'find',\n",
       " 'format',\n",
       " 'format_map',\n",
       " 'index',\n",
       " 'isalnum',\n",
       " 'isalpha',\n",
       " 'isascii',\n",
       " 'isdecimal',\n",
       " 'isdigit',\n",
       " 'isidentifier',\n",
       " 'islower',\n",
       " 'isnumeric',\n",
       " 'isprintable',\n",
       " 'isspace',\n",
       " 'istitle',\n",
       " 'isupper',\n",
       " 'join',\n",
       " 'ljust',\n",
       " 'lower',\n",
       " 'lstrip',\n",
       " 'maketrans',\n",
       " 'partition',\n",
       " 'replace',\n",
       " 'rfind',\n",
       " 'rindex',\n",
       " 'rjust',\n",
       " 'rpartition',\n",
       " 'rsplit',\n",
       " 'rstrip',\n",
       " 'split',\n",
       " 'splitlines',\n",
       " 'startswith',\n",
       " 'strip',\n",
       " 'swapcase',\n",
       " 'title',\n",
       " 'translate',\n",
       " 'upper',\n",
       " 'zfill']"
      ]
     },
     "execution_count": 65,
     "metadata": {},
     "output_type": "execute_result"
    }
   ],
   "source": [
    "x = \"Mike\"\n",
    "dir(x)"
   ]
  },
  {
   "cell_type": "markdown",
   "id": "f8f545da",
   "metadata": {},
   "source": [
    "* Everything in Python is an object\n",
    "* If you use Python’s dir keyword, you can get a list of all the methods you can call on your string. \n",
    "* It means that a string is based on a class and x is an instance of that class!"
   ]
  },
  {
   "cell_type": "markdown",
   "id": "5a342b15",
   "metadata": {},
   "source": [
    "**Creating a Class**"
   ]
  },
  {
   "cell_type": "code",
   "execution_count": 66,
   "id": "a8032dd1",
   "metadata": {},
   "outputs": [],
   "source": [
    "# Python 2.x syntax\n",
    "class Vehicle(object):\n",
    "    \"\"\"docstring\"\"\"\n",
    "\n",
    "    def __init__(self):\n",
    "        \"\"\"Constructor\"\"\"\n",
    "        pass"
   ]
  },
  {
   "cell_type": "markdown",
   "id": "bb1d46a4",
   "metadata": {},
   "source": [
    "* The object is what the class is based on or inheriting from. This is known as the base class or parent class. \n",
    "* Most classes in Python are based on object. Classes have a special method called __init__ (for initialization). This method is called whenever you create (or instantiate) an object based on this class.\n",
    "* The __init__ method is only called once and is not to be called again inside the program.\n",
    "* Another term for __init__ is constructor, although this term isn’t used that much in Python."
   ]
  },
  {
   "cell_type": "markdown",
   "id": "ea06d436",
   "metadata": {},
   "source": [
    "* You may be wondering why I keep saying method instead of function. A function changes its name to “method” when it is within a class. You will also notice that every method has to have at least one argument (i.e. self), which is not true with a regular function."
   ]
  },
  {
   "cell_type": "markdown",
   "id": "f1b3f559",
   "metadata": {},
   "source": [
    "**In Python 3, we don’t need to explicitly say we’re inheriting from object. Instead, we could have written the above like this:**"
   ]
  },
  {
   "cell_type": "code",
   "execution_count": 67,
   "id": "51400316",
   "metadata": {},
   "outputs": [],
   "source": [
    "# Python 3.x syntax\n",
    "class Vehicle:\n",
    "    \"\"\"docstring\"\"\"\n",
    "\n",
    "    def __init__(self):\n",
    "        \"\"\"Constructor\"\"\"\n",
    "        pass"
   ]
  },
  {
   "cell_type": "code",
   "execution_count": 69,
   "id": "26187704",
   "metadata": {},
   "outputs": [],
   "source": [
    "class Vehicle:\n",
    "    \"\"\"docstring\"\"\"\n",
    "\n",
    "    def __init__(self, color, doors, tires):\n",
    "        \"\"\"Constructor\"\"\"\n",
    "        self.color = color\n",
    "        self.doors = doors\n",
    "        self.tires = tires\n",
    "\n",
    "    def brake(self):\n",
    "        \"\"\"\n",
    "        Stop the car\n",
    "        \"\"\"\n",
    "        return \"Braking\"\n",
    "\n",
    "    def drive(self):\n",
    "        \"\"\"\n",
    "        Drive the car\n",
    "        \"\"\"\n",
    "        return \"I'm driving!\""
   ]
  },
  {
   "cell_type": "markdown",
   "id": "6da4262e",
   "metadata": {},
   "source": [
    "**What is self?**"
   ]
  },
  {
   "cell_type": "code",
   "execution_count": 70,
   "id": "5c91bc3a",
   "metadata": {},
   "outputs": [
    {
     "name": "stdout",
     "output_type": "stream",
     "text": [
      "blue\n",
      "red\n"
     ]
    }
   ],
   "source": [
    "if __name__ == \"__main__\":\n",
    "    car = Vehicle(\"blue\", 5, 4)\n",
    "    print(car.color)\n",
    "\n",
    "    truck = Vehicle(\"red\", 3, 6)\n",
    "    print(truck.color)"
   ]
  },
  {
   "cell_type": "markdown",
   "id": "66ed5d6f",
   "metadata": {},
   "source": [
    "* The conditional statement above is a common way of telling Python that you only want to run the following code if this code is executed as a standalone file. \n",
    "* If you had imported your module into another script, then the code underneath the conditional would not run"
   ]
  },
  {
   "cell_type": "code",
   "execution_count": 78,
   "id": "52046d2b",
   "metadata": {},
   "outputs": [
    {
     "name": "stdout",
     "output_type": "stream",
     "text": [
      "car braking\n",
      "I'm driving a blue car!\n",
      "I'm driving a red truck!\n",
      "truck braking\n"
     ]
    }
   ],
   "source": [
    "class Vehicle(object):\n",
    "    \"\"\"docstring\"\"\"\n",
    "\n",
    "    def __init__(self, color, doors, tires, vtype):\n",
    "        \"\"\"Constructor\"\"\"\n",
    "        self.color = color\n",
    "        self.doors = doors\n",
    "        self.tires = tires\n",
    "        self.vtype = vtype\n",
    "\n",
    "    def brake(self):\n",
    "        \"\"\"\n",
    "        Stop the car\n",
    "        \"\"\"\n",
    "        return \"%s braking\" % self.vtype\n",
    "\n",
    "    def drive(self):\n",
    "        \"\"\"\n",
    "        Drive the car\n",
    "        \"\"\"\n",
    "        return \"I'm driving a %s %s!\" % (self.color, self.vtype)\n",
    "\n",
    "if __name__ == \"__main__\":\n",
    "    car = Vehicle(\"blue\", 5, 4, \"car\")\n",
    "    print(car.brake())\n",
    "    print(car.drive())\n",
    "\n",
    "    truck = Vehicle(\"red\", 3, 6, \"truck\")\n",
    "    print(truck.drive())\n",
    "    print(truck.brake())"
   ]
  },
  {
   "cell_type": "markdown",
   "id": "55b71607",
   "metadata": {},
   "source": [
    "**Subclasses** (Inheritance)"
   ]
  },
  {
   "cell_type": "code",
   "execution_count": 79,
   "id": "5fcd4a5c",
   "metadata": {},
   "outputs": [],
   "source": [
    "class Car(Vehicle):\n",
    "    \"\"\"\n",
    "    The Car class\n",
    "    \"\"\"\n",
    "\n",
    "    def brake(self):\n",
    "        \"\"\"\n",
    "        Override brake method\n",
    "        \"\"\"\n",
    "        return \"The car class is breaking slowly!\"\n",
    "\n",
    "if __name__ == \"__main__\":\n",
    "    car = Car(\"yellow\", 2, 4, \"car\")\n",
    "    car.brake()\n",
    "    'The car class is breaking slowly!'\n",
    "    car.drive()\n",
    "    \"I'm driving a yellow car!\""
   ]
  },
  {
   "cell_type": "markdown",
   "id": "9acdff46",
   "metadata": {},
   "source": [
    "# Chapter 12 - Introspection\n"
   ]
  },
  {
   "cell_type": "markdown",
   "id": "1ed84d59",
   "metadata": {},
   "source": [
    "**The Python Type**"
   ]
  },
  {
   "cell_type": "code",
   "execution_count": 85,
   "id": "aef6fce2",
   "metadata": {},
   "outputs": [
    {
     "data": {
      "text/plain": [
       "str"
      ]
     },
     "execution_count": 85,
     "metadata": {},
     "output_type": "execute_result"
    }
   ],
   "source": [
    "x = \"test\"\n",
    "y = 7\n",
    "z = None\n",
    "type(x)\n"
   ]
  },
  {
   "cell_type": "code",
   "execution_count": 83,
   "id": "a9ba631e",
   "metadata": {},
   "outputs": [
    {
     "data": {
      "text/plain": [
       "int"
      ]
     },
     "execution_count": 83,
     "metadata": {},
     "output_type": "execute_result"
    }
   ],
   "source": [
    "type(y)"
   ]
  },
  {
   "cell_type": "code",
   "execution_count": 86,
   "id": "8ee08ca0",
   "metadata": {},
   "outputs": [
    {
     "data": {
      "text/plain": [
       "NoneType"
      ]
     },
     "execution_count": 86,
     "metadata": {},
     "output_type": "execute_result"
    }
   ],
   "source": [
    "type(z)"
   ]
  },
  {
   "cell_type": "markdown",
   "id": "6fa84ff4",
   "metadata": {},
   "source": [
    "**The Python Dir**\n",
    "How do you find out about what methods are available in these cases? Well, dir will help you figure it out."
   ]
  },
  {
   "cell_type": "code",
   "execution_count": 88,
   "id": "fb15457c",
   "metadata": {},
   "outputs": [
    {
     "data": {
      "text/plain": [
       "['__breakpointhook__',\n",
       " '__displayhook__',\n",
       " '__doc__',\n",
       " '__excepthook__',\n",
       " '__interactivehook__',\n",
       " '__loader__',\n",
       " '__name__',\n",
       " '__package__',\n",
       " '__spec__',\n",
       " '__stderr__',\n",
       " '__stdin__',\n",
       " '__stdout__',\n",
       " '__unraisablehook__',\n",
       " '_base_executable',\n",
       " '_clear_type_cache',\n",
       " '_current_frames',\n",
       " '_debugmallocstats',\n",
       " '_framework',\n",
       " '_getframe',\n",
       " '_git',\n",
       " '_home',\n",
       " '_xoptions',\n",
       " 'abiflags',\n",
       " 'addaudithook',\n",
       " 'api_version',\n",
       " 'argv',\n",
       " 'audit',\n",
       " 'base_exec_prefix',\n",
       " 'base_prefix',\n",
       " 'breakpointhook',\n",
       " 'builtin_module_names',\n",
       " 'byteorder',\n",
       " 'call_tracing',\n",
       " 'callstats',\n",
       " 'copyright',\n",
       " 'displayhook',\n",
       " 'dont_write_bytecode',\n",
       " 'exc_info',\n",
       " 'excepthook',\n",
       " 'exec_prefix',\n",
       " 'executable',\n",
       " 'exit',\n",
       " 'flags',\n",
       " 'float_info',\n",
       " 'float_repr_style',\n",
       " 'get_asyncgen_hooks',\n",
       " 'get_coroutine_origin_tracking_depth',\n",
       " 'getallocatedblocks',\n",
       " 'getcheckinterval',\n",
       " 'getdefaultencoding',\n",
       " 'getdlopenflags',\n",
       " 'getfilesystemencodeerrors',\n",
       " 'getfilesystemencoding',\n",
       " 'getprofile',\n",
       " 'getrecursionlimit',\n",
       " 'getrefcount',\n",
       " 'getsizeof',\n",
       " 'getswitchinterval',\n",
       " 'gettrace',\n",
       " 'hash_info',\n",
       " 'hexversion',\n",
       " 'implementation',\n",
       " 'int_info',\n",
       " 'intern',\n",
       " 'is_finalizing',\n",
       " 'last_traceback',\n",
       " 'last_type',\n",
       " 'last_value',\n",
       " 'maxsize',\n",
       " 'maxunicode',\n",
       " 'meta_path',\n",
       " 'modules',\n",
       " 'path',\n",
       " 'path_hooks',\n",
       " 'path_importer_cache',\n",
       " 'platform',\n",
       " 'prefix',\n",
       " 'ps1',\n",
       " 'ps2',\n",
       " 'ps3',\n",
       " 'pycache_prefix',\n",
       " 'set_asyncgen_hooks',\n",
       " 'set_coroutine_origin_tracking_depth',\n",
       " 'setcheckinterval',\n",
       " 'setdlopenflags',\n",
       " 'setprofile',\n",
       " 'setrecursionlimit',\n",
       " 'setswitchinterval',\n",
       " 'settrace',\n",
       " 'stderr',\n",
       " 'stdin',\n",
       " 'stdout',\n",
       " 'thread_info',\n",
       " 'unraisablehook',\n",
       " 'version',\n",
       " 'version_info',\n",
       " 'warnoptions']"
      ]
     },
     "execution_count": 88,
     "metadata": {},
     "output_type": "execute_result"
    }
   ],
   "source": [
    "import sys\n",
    "dir(sys)"
   ]
  },
  {
   "cell_type": "markdown",
   "id": "25e9dc04",
   "metadata": {},
   "source": [
    "# Chapter 13 - The csv Module\n",
    "The csv module gives the Python programmer the ability to parse CSV (Comma Separated Values) files."
   ]
  },
  {
   "cell_type": "markdown",
   "id": "94ffc376",
   "metadata": {},
   "source": [
    "**Reading a CSV File**"
   ]
  },
  {
   "cell_type": "code",
   "execution_count": 89,
   "id": "d42af080",
   "metadata": {},
   "outputs": [
    {
     "name": "stdout",
     "output_type": "stream",
     "text": [
      "variable_name dataset code_list definition\n",
      "budget_cpp_dstb Budget  Average cost of drugs budgeted per patient for drug-susceptible TB treatment, excluding buffer stock (US Dollars)\n",
      "budget_cpp_mdr Budget  Average cost of drugs budgeted per patient for MDR-TB treatment, excluding buffer stock (US Dollars)\n",
      "budget_cpp_tpt Budget  Average cost of drugs budgeted per patient for  TB preventive treatment, excluding buffer stock (US Dollars)\n",
      "budget_cpp_xdr Budget  Average cost of drugs budgeted per patient for XDR-TB treatment, excluding buffer stock (US Dollars)\n",
      "budget_fld Budget  Budget required for drugs to treat drug-susceptible TB (US Dollars)\n",
      "budget_lab Budget  Budget required for laboratory infrastructure, equipment and supplies (US Dollars)\n",
      "budget_mdrmgt Budget  Budget required for programme costs to treat drug-resistant TB (US Dollars)\n",
      "budget_orsrvy Budget  Budget required for operational research and surveys (US Dollars)\n",
      "budget_oth Budget  Budget required for all other budget line items (US Dollars)\n",
      "budget_patsup Budget  Budget required for patient support (US Dollars)\n",
      "budget_prog Budget  Budget required for programme costs to treat drug-susceptible TB (US Dollars)\n",
      "budget_sld Budget  Budget required for drugs to treat drug-resistant TB (US Dollars)\n",
      "budget_staff Budget  Budget required for National TB Programme staff (central unit staff and subnational TB staff)  (US Dollars)\n",
      "budget_tbhiv Budget  Budget required for collaborative TB/HIV activities (US Dollars)\n",
      "budget_tot Budget  Total budget required (US Dollars)\n",
      "budget_tpt Budget  Budget required for TB preventive treatment: drugs (US Dollars)\n",
      "cf_fld Budget  Expected funding for drugs to treat drug-susceptible TB (US Dollars)\n",
      "cf_lab Budget  Expected funding for laboratory infrastructure, equipment and supplies (US Dollars)\n",
      "cf_mdrmgt Budget  Expected funding for programme costs to treat drug-resistant TB (US Dollars)\n",
      "cf_orsrvy Budget  Expected funding for operational research and surveys (US Dollars)\n",
      "cf_oth Budget  Expected funding for all other budget line items (US Dollars)\n",
      "cf_patsup Budget  Expected funding for patient support (US Dollars)\n",
      "cf_prog Budget  Expected funding for programme costs to treat drug-susceptible TB (US Dollars)\n",
      "cf_sld Budget  Expected funding for drugs to treat drug-resistant TB (US Dollars)\n",
      "cf_staff Budget  Expected funding for National TB Programme staff (central unit staff and subnational TB staff)  (US Dollars)\n",
      "cf_tbhiv Budget  Expected funding for collaborative TB/HIV activities (US Dollars)\n",
      "cf_tot Budget  Total expected funding for all budget line items (US Dollars)\n",
      "cf_tot_domestic Budget  Expected funding from domestic sources, including loans (US Dollars)\n",
      "cf_tot_gf Budget  Expected funding from the Global Fund to Fight AIDS, Tuberculosis and Malaria (US Dollars)\n",
      "cf_tot_grnt Budget  Expected funding from other sources (US Dollars)\n",
      "cf_tot_sources Budget  Total expected funding from all sources (US Dollars)\n",
      "cf_tot_usaid Budget  Expected funding from USAID (US Dollars)\n",
      "cf_tpt Budget  Expected funding for TB preventive treatment drugs (US Dollars)\n",
      "tx_dstb Budget  Number of patients expected to start drug-susceptible TB treatment\n",
      "tx_mdr Budget  Number of patients expected to start MDR-TB treatment\n",
      "tx_tpt Budget  Number of patients expected to start TB preventive treatment\n",
      "tx_xdr Budget  Number of patients expected to start XDR-TB treatment\n",
      "bmu Community engagement  Number of TB Basic Management Units in the country\n",
      "bmu_community_impl Community engagement  Number of TB Basic Management Units which implemented community-based referrals or any form of community treatment adherence support\n",
      "bmu_ref_data Community engagement  Number of Basic Management Units with data on referrals by community health workers / community volunteers\n",
      "bmu_rxsupport_data Community engagement  Number of Basic Management Units with data on community treatment adherence support\n",
      "bmu_rxsupport_data_coh Community engagement  Total number of patients who started TB treatment in the Basic Management Units with data on community treatment adherence support\n",
      "community_data_available Community engagement 0=No; 1=Yes Are data available on community-based referrals or any form of community treatment adherence support?\n",
      "notified_ref Community engagement  Total number of new and relapse TB cases notified in the Basic Management Units with data on referrals by community health workers\n",
      "notified_ref_community Community engagement  Total number of new and relapse TB cases referred by community health workers / community volunteers in the Basic Management Units with data on referrals by community health workers\n",
      "rxsupport_community_coh Community engagement  Total number of patients who started TB treatment and who received any form of treatment adherence support from community health workers / community volunteers in the Basic Management Units with data on community treatment adherence support\n",
      "rxsupport_community_succ Community engagement  Total number of patients who were cured or who completed treatment among the cases who started TB treatment and who received any form of treatment adherence support from community health workers / community volunteers in the Basic Management Units with data on community treatment adherence support\n",
      "newinc_con Contacts preventive treatment  (If screen_data_available=60) Number of household contacts of bacteriologically-confirmed pulmonary new and relapse TB cases\n",
      "newinc_con_prevtx Contacts preventive treatment  (If prevtx_data_available=60) Number of household contacts of bacteriologically-confirmed pulmonary new and relapse TB cases notified in the reporting year who were started on TB preventive treatment\n",
      "newinc_con_screen Contacts preventive treatment  (If screen_data_available=60) Number of household contacts of bacteriologically-confirmed pulmonary new and relapse TB cases who were evaluated for active TB and latent TB\n",
      "newinc_con04_prevtx Contacts preventive treatment  (If prevtx_data_available=60) Number of children aged under 5 started on TB preventive treatment who are household contacts of bacteriologically-confirmed new and relapse TB cases notified\n",
      "newinc_con5plus_prevtx Contacts preventive treatment  (If prevtx_5plus_data_available=60) Number of children aged 5 years and above, adolescents and adults started on TB preventive therapy who are household contacts of bacteriologically-confirmed new and relapse TB cases notified\n",
      "prevtx_5plus_data_available Contacts preventive treatment 0=No; 60= Yes available from the routine surveillance system; 61=Yes estimated from a review of a random sample of medical records or treatment cards of TB patients representative of the national TB patient population Are data available on the number of children aged 5 years and above, adolescents and adults who are household contacts of TB cases and started on TB preventive therapy?\n",
      "prevtx_data_available Contacts preventive treatment 0=No; 60= Yes available from the routine surveillance system; 61=Yes estimated from a review of a random sample of medical records or treatment cards of TB patients representative of the national TB patient population Are data available on the number of household contacts of TB cases started on TB preventive treatment?\n",
      "prevtx_short_data_available Contacts preventive treatment 0=No; 1=Yes; 2=Not applicable; 194=Not used Are data available on the number of patients treated using shorter TB preventive treatment regimens containing rifampicin or rifapentine?\n",
      "prevtx_short_rifamycin Contacts preventive treatment  (if prevtx_short_data_available=1) Total number of individuals started on shorter TB preventive treatment regimens containing rifampicin or rifapentine in the reporting year\n",
      "ptsurvey_newinc Contacts preventive treatment  (If prevtx_data_available=61) Number of bacteriologically-confirmed TB new and relapse cases notified in the reporting year whose medical records or treatment cards were included in a survey\n",
      "ptsurvey_newinc_5plus Contacts preventive treatment  (If prevtx_5plus_data_available=61) Number of bacteriologically-confirmed TB new and relapse cases notified in the reporting year whose medical records or treatment cards were included in a survey\n",
      "ptsurvey_newinc_con_prevtx Contacts preventive treatment  (If prevtx_data_available=61) Number of household contacts of the TB cases surveyed in ptsurvey_newinc who were started on TB preventive treatment.\n",
      "ptsurvey_newinc_con04_prevtx Contacts preventive treatment  (If prevtx_data_available=61) Number of children aged under 5 started on TB preventive treatment who are household contacts of the TB cases in ptsurvey_newinc\n",
      "ptsurvey_newinc_con5plus_prevtx Contacts preventive treatment  (If prevtx_5plus_data_available=61) Number of children aged 5 years and above, adolescents and adults started on TB preventive therapy who are household contacts of the TB cases in ptsurvey_newinc_5plus\n",
      "rev_newinc Contacts preventive treatment  (If screen_data_available=61) Number of bacteriologically-confirmed pulmonary new and relapse TB cases whose medical records or treatment cards were included in the review\n",
      "rev_newinc_con Contacts preventive treatment  (If screen_data_available=61) Number of household contacts identified from the bacteriologically-confirmed pulmonary new and relapse TB cases whose medical records or treatment cards were included in the review\n",
      "rev_newinc_con_screen Contacts preventive treatment  (If screen_data_available=61) Number of household contacts who were evaluated for active TB and latent TB identified from the bacteriologically-confirmed pulmonary new and relapse TB cases whose medical records or treatment cards were included in the review\n",
      "screen_data_available Contacts preventive treatment 0=No; 60= Yes available from the routine surveillance system; 61=Yes estimated from a review of a random sample of medical records or treatment cards of TB patients representative of the national TB patient population; 5=Not applicable Are data available on the number of household contacts of TB cases who were evaluated for TB?\n",
      "country Country identification  Country or territory name\n",
      "iso_numeric Country identification  ISO numeric country/territory code\n",
      "iso2 Country identification  ISO 2-character country/territory code\n",
      "iso3 Country identification  ISO 3-character country/territory code\n",
      "age_group Disaggregated estimates 0-4=0-4 years; 5-14=5-14 years; 15-24=15-24 years ..etc; 15plus=15 years and above; 65plus=65 years and above; all=All ages; Age group (in years)\n",
      "best Disaggregated estimates  Best estimate\n",
      "hi Disaggregated estimates  High bound of estimate\n",
      "lo Disaggregated estimates  Low bound of estimate\n",
      "measure Disaggregated estimates inc = incidence The measure of TB burden being estimated\n",
      "risk_factor Disaggregated estimates alc=Harmful use of alcohol; dia=Diabetes; hiv=HIV; smk=Smoking; und=Undernourishment; all=All (not disaggregated by specific risk factors) Cases attributable to a specific risk factor\n",
      "sex Disaggregated estimates a=All (females and males); f=Females; m=Males Sex\n",
      "unit Disaggregated estimates num=absolute number The unit of measurement\n",
      "dst_rlt_hr_new Drug resistance surveillance  Number of new bacteriologically confirmed pulmonary TB patients with test results for rifampicin and isoniazid and with resistance to isoniazid (regardless of result for rifampicin)\n",
      "dst_rlt_hr_ret Drug resistance surveillance  Number of previously treated bacteriologically confirmed pulmonary TB patients with test results for rifampicin and isoniazid and with resistance to isoniazid (regardless of result for rifampicin)\n",
      "dst_rlt_new Drug resistance surveillance  Drug resistance surveillance: Among new pulmonary TB patients with positive identification for M. Tuberculosis complex (confirmed by culture and/or line-probe assay): number of patients with available drug susceptibility testing results for isoniazid and rifampicin\n",
      "dst_rlt_ret Drug resistance surveillance  Drug resistance surveillance: Among patients previously treated for TB with positive identification for M. Tuberculosis complex (confirmed by culture and/or line-probe assay): number of patients with available drug susceptibility testing results for isoniazid and rifampicin\n",
      "dst_rlt_rr_new Drug resistance surveillance  Number of new bacteriologically confirmed pulmonary TB patients with test results for rifampicin and isoniazid and with resistance to rifampicin (regardless of result for isoniazid)\n",
      "dst_rlt_rr_ret Drug resistance surveillance  Number of previously treated bacteriologically confirmed pulmonary TB patients with test results for rifampicin and isoniazid and with resistance to rifampicin (regardless of result for isoniazid)\n",
      "mdr_dst_rlt Drug resistance surveillance  Drug resistance surveillance: Total number of pulmonary MDR-TB patients with drug susceptibility test results for any fluoroquinolone and any second-line injectable agent\n",
      "mdr_new Drug resistance surveillance  Drug resistance surveillance: Among new TB patients with available drug susceptibility testing results (variable dst_rlt_new):  number of patients with resistance to isoniazid and rifampicin  (MDR-TB)\n",
      "mdr_ret Drug resistance surveillance  Drug resistance surveillance: Among patients previously treated for TB with available drug susceptibility testing results (variable dst_rlt_ret):  number of patients with resistance to isoniazid and rifampicin  (MDR-TB)\n",
      "nrr_014 Drug resistance surveillance  Among patients with results for rifampicin testing in r_rlt_new and r_rlt_ret, number susceptible to rifampicin and who are aged 0-14 years\n",
      "nrr_15plus Drug resistance surveillance  Among patients with results for rifampicin testing in r_rlt_new and r_rlt_ret, number susceptible to rifampicin and who are aged 15 years and over\n",
      "nrr_ageunk Drug resistance surveillance  Among patients with results for rifampicin testing in r_rlt_new and r_rlt_ret, number susceptible to rifampicin and whose age is unknown\n",
      "nrr_hivneg Drug resistance surveillance  Among patients with results for rifampicin testing in r_rlt_new and r_rlt_ret, number susceptible to rifampicin and who are HIV-negative\n",
      "nrr_hivpos Drug resistance surveillance  Among patients with results for rifampicin testing in r_rlt_new and r_rlt_ret, number susceptible to rifampicin and who are HIV-positive\n",
      "nrr_hivunk Drug resistance surveillance  Among patients with results for rifampicin testing in r_rlt_new and r_rlt_ret, number susceptible to rifampicin and whose HIV status is unknown\n",
      "pulm_labconf_new Drug resistance surveillance  Number of new bacteriologically confirmed pulmonary TB cases\n",
      "pulm_labconf_ret Drug resistance surveillance  Number of previously treated bacteriologically confirmed pulmonary TB cases\n",
      "pulm_labconf_unk Drug resistance surveillance  Number of bacteriologically confirmed pulmonary TB cases with unknown TB treatment history\n",
      "r_rlt_new Drug resistance surveillance  Number of new bacteriologically confirmed pulmonary TB patients with test results for rifampicin\n",
      "r_rlt_ret Drug resistance surveillance  Number of previously treated bacteriologically confirmed pulmonary TB patients with test results for rifampicin\n",
      "rr_014 Drug resistance surveillance  Among patients with results for rifampicin testing in r_rlt_new and r_rlt_ret, number resistant to rifampicin and who are aged 0-14 years\n",
      "rr_15plus Drug resistance surveillance  Among patients with results for rifampicin testing in r_rlt_new and r_rlt_ret, number resistant to rifampicin and who are aged 15 years and over\n",
      "rr_ageunk Drug resistance surveillance  Among patients with results for rifampicin testing in r_rlt_new and r_rlt_ret, number resistant to rifampicin and whose age is unknown\n",
      "rr_dr_2li Drug resistance surveillance  Number of new or previously treated bacteriologically confirmed pulmonary TB patients with resistance to rifampicin and resistance to second-line injectable agents\n",
      "rr_dr_fq Drug resistance surveillance  Number of new or previously treated bacteriologically confirmed pulmonary TB patients with resistance to rifampicin and resistance to fluoroquinolones\n",
      "rr_dr_fq_2li Drug resistance surveillance  Number of new or previously treated bacteriologically confirmed pulmonary TB patients with resistance to rifampicin and resistance to both fluoroquinolones and second-line injectable agents\n",
      "rr_ds_fq2li Drug resistance surveillance  Number of new or previously treated bacteriologically confirmed pulmonary TB patients with resistance to rifampicin and susceptible to both fluoroquinolones and second-line injectable agents\n",
      "rr_dst_rlt Drug resistance surveillance  Number of new or previously treated bacteriologically confirmed pulmonary TB patients with resistance to rifampicin and with test results for any fluoroquinolone and any second-line injectable agent\n",
      "rr_dst_rlt_fq Drug resistance surveillance  Number of new or previously treated bacteriologically confirmed pulmonary TB patients with resistance to rifampicin and with test results for any fluoroquinolone\n",
      "rr_fqr Drug resistance surveillance  Number of new or previously treated bacteriologically confirmed pulmonary TB patients with resistance to rifampicin and resistance to fluoroquinolones\n",
      "rr_hivneg Drug resistance surveillance  Among patients with results for rifampicin testing in r_rlt_new and r_rlt_ret, number resistant to rifampicin and who are HIV-negative\n",
      "rr_hivpos Drug resistance surveillance  Among patients with results for rifampicin testing in r_rlt_new and r_rlt_ret, number resistant to rifampicin and who are HIV-positive\n",
      "rr_hivunk Drug resistance surveillance  Among patients with results for rifampicin testing in r_rlt_new and r_rlt_ret, number resistant to rifampicin and whose HIV status is unknown\n",
      "rr_new Drug resistance surveillance  Number of new bacteriologically confirmed pulmonary TB patients with resistance to rifampicin (RR-TB)\n",
      "rr_ret Drug resistance surveillance  Number of previously treated bacteriologically confirmed pulmonary TB patients with resistance to rifampicin (RR-TB)\n",
      "xdr Drug resistance surveillance  Drug resistance surveillance: Among pulmonary MDR-TB patients with drug susceptibility test results for any fluoroquinolone (FQ) and any second-line injectable agent (2LI) (variable mdr_dst_rlt): number with any resistance to both FQ and 2LI (i.e. XDR-TB)\n",
      "c_cdr Estimates  Case detection rate (all forms) [also known as TB treatment coverage], percent\n",
      "c_cdr_hi Estimates  Case detection rate (all forms) [also known as TB treatment coverage], percent, high bound\n",
      "c_cdr_lo Estimates  Case detection rate (all forms) [also known as TB treatment coverage], percent, low bound\n",
      "c_newinc_100k Estimates  Case notification rate, which is the total of new and relapse cases and cases with unknown previous TB treatment history per 100 000 population (calculated)\n",
      "cfr Estimates  Estimated TB case fatality ratio\n",
      "cfr_hi Estimates  Estimated TB case fatality ratio: high bound\n",
      "cfr_lo Estimates  Estimated TB case fatality ratio: low bound\n",
      "cfr_pct Estimates  Estimated TB case fatality ratio expressed as a percentage\n",
      "cfr_pct_hi Estimates  Estimated TB case fatality ratio: high bound expressed as a percentage\n",
      "cfr_pct_lo Estimates  Estimated TB case fatality ratio: low bound expressed as a percentage\n",
      "e_inc_100k Estimates  Estimated incidence (all forms) per 100 000 population\n",
      "e_inc_100k_hi Estimates  Estimated incidence (all forms) per 100 000 population, high bound\n",
      "e_inc_100k_lo Estimates  Estimated incidence (all forms) per 100 000 population, low bound\n",
      "e_inc_num Estimates  Estimated number of incident cases (all forms)\n",
      "e_inc_num_hi Estimates  Estimated number of incident cases (all forms), high bound\n",
      "e_inc_num_lo Estimates  Estimated number of incident cases (all forms), low bound\n",
      "e_inc_rr_num Estimates  Estimated incidence of rifampicin resistant TB (absolute number)\n",
      "e_inc_rr_num_hi Estimates  Estimated incidence of rifampicin resistant TB (absolute number): high bound\n",
      "e_inc_rr_num_lo Estimates  Estimated incidence of rifampicin resistant TB (absolute number): low bound\n",
      "e_inc_tbhiv_100k Estimates  Estimated incidence of TB cases who are HIV-positive per 100 000 population\n",
      "e_inc_tbhiv_100k_hi Estimates  Estimated incidence of TB cases who are HIV-positive per 100 000 population, high bound\n",
      "e_inc_tbhiv_100k_lo Estimates  Estimated incidence of TB cases who are HIV-positive per 100 000 population, low bound\n",
      "e_inc_tbhiv_num Estimates  Estimated incidence of TB cases who are HIV-positive\n",
      "e_inc_tbhiv_num_hi Estimates  Estimated incidence of TB cases who are HIV-positive, high bound\n",
      "e_inc_tbhiv_num_lo Estimates  Estimated incidence of TB cases who are HIV-positive, low bound\n",
      "e_mdr_pct_rr Estimates  Estimated percentage of rifampicin resistant TB cases that have MDR-TB\n",
      "e_mdr_pct_rr_new Estimates  Estimated percentage of new rifampicin resistant TB cases that have MDR-TB\n",
      "e_mdr_pct_rr_ret Estimates  Estimated percentage of previously treated rifampicin resistant TB cases that have MDR-TB\n",
      "e_mort_100k Estimates  Estimated mortality of TB cases (all forms) per 100 000 population\n",
      "e_mort_100k_hi Estimates  Estimated mortality of TB cases (all forms) per 100 000 population, high bound\n",
      "e_mort_100k_lo Estimates  Estimated mortality of TB cases (all forms) per 100 000 population, low bound\n",
      "e_mort_exc_tbhiv_100k Estimates  Estimated mortality of TB cases (all forms, excluding HIV) per 100 000 population\n",
      "e_mort_exc_tbhiv_100k_hi Estimates  Estimated mortality of TB cases (all forms, excluding HIV), per 100 000 population, high bound\n",
      "e_mort_exc_tbhiv_100k_lo Estimates  Estimated mortality of TB cases (all forms, excluding HIV), per 100 000 population, low bound\n",
      "e_mort_exc_tbhiv_num Estimates  Estimated number of deaths from TB (all forms, excluding HIV)\n",
      "e_mort_exc_tbhiv_num_hi Estimates  Estimated number of deaths from TB (all forms, excluding HIV), high bound\n",
      "e_mort_exc_tbhiv_num_lo Estimates  Estimated number of deaths from TB (all forms, excluding HIV), low bound\n",
      "e_mort_num Estimates  Estimated number of deaths from TB (all forms)\n",
      "e_mort_num_hi Estimates  Estimated number of deaths from TB (all forms), high bound\n",
      "e_mort_num_lo Estimates  Estimated number of deaths from TB (all forms), low bound\n",
      "e_mort_tbhiv_100k Estimates  Estimated mortality of TB cases who are HIV-positive, per 100 000 population\n",
      "e_mort_tbhiv_100k_hi Estimates  Estimated mortality of TB cases who are HIV-positive, per 100 000 population, high bound\n",
      "e_mort_tbhiv_100k_lo Estimates  Estimated mortality of TB cases who are HIV-positive, per 100 000 population, low bound\n",
      "e_mort_tbhiv_num Estimates  Estimated number of deaths from TB in people who are HIV-positive\n",
      "e_mort_tbhiv_num_hi Estimates  Estimated number of deaths from TB in people who are HIV-positive, high bound\n",
      "e_mort_tbhiv_num_lo Estimates  Estimated number of deaths from TB in people who are HIV-positive, low bound\n",
      "e_pop_num Estimates  Estimated total population number\n",
      "e_rr_in_notified_labconf_pulm Estimates  Estimated number of RR-TB cases among notified bacteriologically confirmed pulmonary TB cases\n",
      "e_rr_in_notified_labconf_pulm_hi Estimates  Estimated number of RR-TB cases among notified bacteriologically confirmed pulmonary TB cases: high bound\n",
      "e_rr_in_notified_labconf_pulm_lo Estimates  Estimated number of RR-TB cases among notified bacteriologically confirmed pulmonary TB cases: low bound\n",
      "e_rr_pct_new Estimates  Estimated percentage of new TB cases with rifampicin resistant TB\n",
      "e_rr_pct_new_hi Estimates  Estimated percentage of new TB cases with rifampicin resistant TB: high bound\n",
      "e_rr_pct_new_lo Estimates  Estimated percentage of new TB cases with rifampicin resistant TB: low bound\n",
      "e_rr_pct_ret Estimates  Estimated percentage of previously treated TB cases with rifampicin resistant TB\n",
      "e_rr_pct_ret_hi Estimates  Estimated percentage of previously treated TB cases with rifampicin resistant TB: high bound\n",
      "e_rr_pct_ret_lo Estimates  Estimated percentage of previously treated TB cases with rifampicin resistant TB: low bound\n",
      "e_tbhiv_prct Estimates  Estimated HIV in incident TB (percent)\n",
      "e_tbhiv_prct_hi Estimates  Estimated HIV in incident TB (percent), high bound\n",
      "e_tbhiv_prct_lo Estimates  Estimated HIV in incident TB (percent), low bound\n",
      "source_drs_coverage_new Estimates  Indicates whether national or subnational data from drug resistance surveys or surveillance was used to estimate the proportion of new TB cases with MDR-TB\n",
      "source_drs_coverage_ret Estimates  Indicates whether national or subnational data from drug resistance surveys or surveillance was used to estimate the proportion of previously treated TB cases with MDR-TB\n",
      "source_drs_year_new Estimates  Year of drug resistance surveillance, survey or model used to estimate proportion of new TB cases with MDR-TB\n",
      "source_drs_year_ret Estimates  Year of drug resistance surveillance, survey or model used to estimate proportion of previously treated TB cases with MDR-TB\n",
      "source_rr_new Estimates  Method used to estimate proportion of new TB patients with rifampicin-resistant TB\n",
      "source_rr_ret Estimates  Method used to estimate proportion of previously treated TB patients with rifampicin-resistant TB\n",
      "exp_cpp_dstb Expenditure and utilisation  Average cost of drugs spent per patient starting first-line TB treatment, excluding buffer stock (US Dollars)\n",
      "exp_cpp_mdr Expenditure and utilisation  Average cost of drugs spent per patient starting second-line treatment for MDR-TB, excluding buffer stock (US Dollars)\n",
      "exp_cpp_tpt Expenditure and utilisation  Average cost of drugs spent per person starting TB preventive treatment, excluding buffer stock (US Dollars)\n",
      "exp_cpp_xdr Expenditure and utilisation  Average cost of drugs spent per patient starting XDR-TB treatment, excluding buffer stock (US Dollars)\n",
      "exp_fld Expenditure and utilisation  Actual expenditure on drugs to treat drug-susceptible TB (US Dollars)\n",
      "exp_lab Expenditure and utilisation  Actual expenditure on laboratory infrastructure, equipment and supplies (US Dollars)\n",
      "exp_mdrmgt Expenditure and utilisation  Actual expenditure on programme costs to treat drug-resistant TB (US Dollars)\n",
      "exp_orsrvy Expenditure and utilisation  Actual expenditure on operational research and surveys (US Dollars)\n",
      "exp_oth Expenditure and utilisation  Actual expenditure on all other budget line items (US Dollars)\n",
      "exp_patsup Expenditure and utilisation  Actual expenditure on patient support (US Dollars)\n",
      "exp_prog Expenditure and utilisation  Actual expenditure on programme costs to treat drug-susceptible TB (US Dollars)\n",
      "exp_sld Expenditure and utilisation  Actual expenditure on drugs to treat drug-resistant TB (US Dollars)\n",
      "exp_staff Expenditure and utilisation  Actual expenditure on National TB Programme staff (central unit staff and subnational TB staff)  (US Dollars)\n",
      "exp_tbhiv Expenditure and utilisation  Actual expenditure on collaborative TB/HIV activities (US Dollars)\n",
      "exp_tot Expenditure and utilisation  Total actual expenditure (US Dollars)\n",
      "exp_tpt Expenditure and utilisation  Actual expenditure on drugs for TB preventive treatment (US Dollars)\n",
      "hcfvisit_dstb Expenditure and utilisation  Typical number of visits to a health facility after diagnosis for patients starting first-line TB treatment\n",
      "hcfvisit_mdr Expenditure and utilisation  Typical number of visits to a health facility after diagnosis for patients starting MDR-TB/XDR-TB treatment\n",
      "hosp_type_mdr Expenditure and utilisation 2=Not applicable; 140=Primary-level hospital; 141=Secondary-level hospital; 142= Tertiary-level hospital Type of facility most often used if MDR-TB patients are hospitalized\n",
      "hospd_dstb_dur Expenditure and utilisation  Estimated average duration of stay if patients starting first-line TB treatment are hospitalized (days)\n",
      "hospd_dstb_prct Expenditure and utilisation  Estimated percentage of patients starting first-line TB treatment that are hospitalized (%)\n",
      "hospd_mdr_dur Expenditure and utilisation  Estimated average duration of stay if patients starting MDR-TB/XDR-TB treatment are hospitalized (days)\n",
      "hospd_mdr_prct Expenditure and utilisation  Estimated percentage of patients starting MDR-TB/XDR-TB treatment that are hospitalized (%)\n",
      "rcvd_fld Expenditure and utilisation  Funding received for drugs to treat drug-susceptible TB (US Dollars)\n",
      "rcvd_lab Expenditure and utilisation  Funding received for laboratory infrastructure, equipment and supplies (US Dollars)\n",
      "rcvd_mdrmgt Expenditure and utilisation  Funding received for programme costs to treat drug-resistant TB (US Dollars)\n",
      "rcvd_orsrvy Expenditure and utilisation  Funding received for operational research and surveys (US Dollars)\n",
      "rcvd_oth Expenditure and utilisation  Funding received for all other budget line items (US Dollars)\n",
      "rcvd_patsup Expenditure and utilisation  Funding received for patient support (US Dollars)\n",
      "rcvd_prog Expenditure and utilisation  Funding received for programme costs to treat drug-susceptible TB (US Dollars)\n",
      "rcvd_sld Expenditure and utilisation  Funding received for drugs to treat drug-resistant TB (US Dollars)\n",
      "rcvd_staff Expenditure and utilisation  Funding received for National TB Programme staff (central unit staff and subnational TB staff)  (US Dollars)\n",
      "rcvd_tbhiv Expenditure and utilisation  Funding received for collaborative TB/HIV activities (US Dollars)\n",
      "rcvd_tot Expenditure and utilisation  Total funding received for all budget line items (US Dollars)\n",
      "rcvd_tot_domestic Expenditure and utilisation  Funding received from domestic sources, including loans (US Dollars)\n",
      "rcvd_tot_gf Expenditure and utilisation  Funding received from the Global Fund to Fight AIDS, Tuberculosis and Malaria (US Dollars)\n",
      "rcvd_tot_grnt Expenditure and utilisation  Funding received from other sources (US Dollars)\n",
      "rcvd_tot_sources Expenditure and utilisation  Total funding received from all sources (US Dollars)\n",
      "rcvd_tot_usaid Expenditure and utilisation  Funding received from USAID (US Dollars)\n",
      "rcvd_tpt Expenditure and utilisation  Funding received for drugs for TB preventive treatment (US Dollars)\n",
      "collab_private_lab Laboratories 0=No; 1=yes Were any non-NTP laboratories in the private sector (including NGOs) collaborating with the NTP?\n",
      "collab_public_lab Laboratories 0=No; 1=yes Were any non-NTP laboratories in the public sector collaborating with the NTP?\n",
      "culture Laboratories  Number of sites providing TB diagnostic services using culture at the end of the reporting year\n",
      "dst Laboratories  Number of sites providing phenotypic drug susceptibility testing for first-line drugs only at the end of the reporting year\n",
      "dst_eqa_pass Laboratories  Number of sites providing phenotypic drug susceptibility testing for first-line drugs only that demonstrated proficiency by panel testing\n",
      "lab_cul Laboratories  Number of laboratories providing TB diagnostic services using culture\n",
      "lab_dst Laboratories  Number of laboratories providing TB diagnostic services using drug susceptibility testing\n",
      "lab_dst_eqa Laboratories  Number of drug susceptibility testing laboratories for which External Quality Assessment (EQA) was carried out\n",
      "lab_dst_eqa_pass Laboratories  Number of drug susceptibility testing laboratories which demonstrated acceptable performance\n",
      "lab_lpa Laboratories  Number of laboratories providing TB diagnostic services using Line Probe Assay (LPA) rifampicin\n",
      "lab_lpa_eqa Laboratories  Number of Line Probe Assay (LPA) rifampicin  laboratories for which External Quality Assessment (EQA) was carried out\n",
      "lab_lpa_eqa_pass Laboratories  Number of Line Probe Assay (LPA) rifampicin laboratories which demonstrated acceptable performance\n",
      "lab_sm Laboratories  Number of laboratories providing TB diagnostic services using smear microscopy\n",
      "lab_sm_eqa Laboratories  Number of smear microscopy laboratories for which External Quality Assessment (EQA) was carried out\n",
      "lab_sm_eqa_pass Laboratories  Number of smear microscopy laboratories which demonstrated acceptable performance\n",
      "lab_sm_led Laboratories  Number of laboratories providing TB diagnostic services using LED microscopes for smear microscopy\n",
      "lab_xpert Laboratories  Number of laboratories providing TB diagnostic services using xpert MTB/RIF\n",
      "lab_xpert_eqa Laboratories  Number of laboratories providing TB diagnostic services using xpert MTB/RIF for which External Quality Assessment (EQA) was carried out\n",
      "lpa Laboratories  Number of sites providing Line Probe Assay services at the end of the reporting year\n",
      "lpa_eqa_pass Laboratories  Number of sites providing Line Probe Assay services that demonstrated proficiency by panel testing\n",
      "nrl Laboratories 0=No; 1=yes Was there a national reference laboratory or laboratories (NRL)?\n",
      "nrl_iso15189 Laboratories 0=No; 1=yes Has the national reference laboratory (or national reference laboratories) achieved national or international accreditation according to the ISO 15189 standard?\n",
      "nrl_qms Laboratories 0=No; 1=yes Has a formal quality management system towards achieving laboratory accreditation been implemented at the National Reference Laboratory?\n",
      "nrl_srl_link Laboratories 0=No; 1=yes Has a formal link been established between the National Reference Laboratory and a partner Supranational Reference Laboratory?\n",
      "qms Laboratories 0=No; 1=yes Is a formal quality management system towards achieving accreditation being implemented in all laboratories conducting culture, LPA and/or DST?\n",
      "sldst Laboratories  Number of sites providing phenotypic drug susceptibility testing for first-line drugs and second-line drugs at the end of the reporting year\n",
      "sldst_avail_incntry Laboratories 0=No; 1=yes Was second-line drug susceptibility testing available within the country for TB National Treatment Programme patients?\n",
      "sldst_avail_outcntry Laboratories 0=No; 1=yes Was second-line drug susceptibility testing available outside the country for TB National Treatment Programme patients?\n",
      "sldst_eqa_pass Laboratories  Number of sites providing phenotypic drug susceptibility testing for first-line drugs and second-line drugs that demonstrated proficiency by panel testing\n",
      "sllpa Laboratories  Number of sites providing Line Probe Assay (LPA) services for rifampicin, isoniazid, fluoroquinolones, second-line injectables\n",
      "sllpa_eqa_pass Laboratories  Number of sites providing Line Probe Assay (LPA) services for rifampicin, isoniazid, fluoroquinolones, second-line injectables that demonstrated proficiency by panel testing\n",
      "smear Laboratories  Number of sites providing TB diagnostic services using smear microscopy at the end of the reporting year\n",
      "smear_eqa Laboratories  Number of sites providing TB diagnostic services using smear microscopy covered by a comprehensive EQA system\n",
      "xpert Laboratories  Number of sites providing TB diagnostic services using Xpert MTB/RIF at the end of the reporting year\n",
      "xpert_eqa Laboratories  Number of sites providing TB diagnostic services using Xpert MTB/RIF covered by a comprehensive EQA system\n",
      "xpert_etrans Laboratories  Number of sites using Xpert MTB/RIF which transmit results automatically to clinicians and to an information management system\n",
      " e_prevtx_kids_pct Latent TB infection estimates  Estimated % of children received TB preventive therapy aged under 5 who are household contacts of TB cases and who are eligible for TB preventive therapy\n",
      " e_prevtx_kids_pct_hi Latent TB infection estimates  Estimated % of children received TB preventive therapy aged under 5 who are household contacts of TB cases and who are eligible for TB preventive therapy: High bound\n",
      " e_prevtx_kids_pct_lo Latent TB infection estimates  Estimated % of children received TB preventive therapy aged under 5 who are household contacts of TB cases and who are eligible for TB preventive therapy: Low bound\n",
      "e_hh_size Latent TB infection estimates  Estimated average household size\n",
      "e_prevtx_eligible Latent TB infection estimates  Estimated number of children aged under 5 who are household contacts of TB cases who are eligible for TB preventive therapy\n",
      "e_prevtx_eligible_hi Latent TB infection estimates  Estimated number of children aged under 5 who are household contacts of TB cases who are eligible for TB preventive therapy: high bound\n",
      "e_prevtx_eligible_lo Latent TB infection estimates  Estimated number of children aged under 5 who are household contacts of TB cases who are eligible for TB preventive therapy: low bound\n",
      "source_hh Latent TB infection estimates  Source of estimate of average household size\n",
      "tbhiv_sentin_cil Non-routine HIV surveillance  Lower limit (95% confidence interval) of prevalence (%) of HIV in TB patients estimated using sentinel sites\n",
      "tbhiv_sentin_ciu Non-routine HIV surveillance  Upper limit (95% confidence interval) of prevalence (%) of HIV in TB patients estimated using sentinel sites\n",
      "tbhiv_sentin_prev Non-routine HIV surveillance  Prevalence (%) of HIV in TB patients estimated using sentinel sites\n",
      "tbhiv_sentin_yr Non-routine HIV surveillance  Year in which prevalence of HIV in TB patients was estimated using sentinel sites\n",
      "tbhiv_surv_cil Non-routine HIV surveillance  Lower limit (95% confidence interval) of prevalence (%) of HIV in TB patients estimated using nationwide representative surveys\n",
      "tbhiv_surv_ciu Non-routine HIV surveillance  Upper limit (95% confidence interval) of prevalence (%) of HIV in TB patients estimated using nationwide representative surveys\n",
      "tbhiv_surv_prev Non-routine HIV surveillance  Prevalence (%) of HIV in TB patients estimated using nationwide representative\n",
      "surveys\n",
      "tbhiv_surv_yr Non-routine HIV surveillance  Year in which prevalence of HIV in TB patients was estimated using nationwide representative surveys\n",
      "agegroup_option Notification 220=all defined in 2013 reporting framework plus 4-9 10-14 15-19 20-24 age groups; 221=all; 222=all except for 5-9 and 10-14 age groups; 223=only 0-4 5-14 and 15+ age groups The set of age groups by which notifications have been disaggregated\n",
      "all_conf_xdr Notification  Number of laboratory-confirmed XDR-TB cases identified in the current year (including in MDR cases diagnosed in previous years).\n",
      "c_newinc Notification  Total of new and relapse cases and cases with unknown previous TB treatment history\n",
      "conf_mdr Notification  Number of laboratory-confirmed MDR-TB cases identified\n",
      "conf_mdr_tx Notification  Number of laboratory-confirmed MDR-TB patients who started treatment for MDR-TB\n",
      "conf_rrmdr Notification  Number of laboratory-confirmed RR-TB or MDR-TB cases identified\n",
      "conf_rrmdr_tx Notification  Number of laboratory-confirmed rifampicin-resistant (RR-TB) or multidrug-resistant TB (MDR-TB) patients who started treatment for MDR-TB\n",
      "conf_xdr_tx Notification  Number of laboratory-confirmed XDR-TB patients who started treatment for XDR-TB\n",
      "hiv_art Notification  HIV-positive TB patients started or continued on antiretroviral therapy (ART)\n",
      "hiv_cpt Notification  HIV-positive TB patients started or continued on co-trimoxazole preventive therapy (CPT)\n",
      "hiv_ipt Notification  People living with HIV newly enrolled in HIV treatment who started treatment for latent TB infection\n",
      "hiv_ipt_reg_all Notification  People living with HIV currently enrolled in HIV treatment who started treatment for latent TB infection\n",
      "hiv_reg Notification  Total number of people registered as HIV-positive regardless of year of diagnosis. (Total number of adults and children enrolled in HIV care; includes everyone in the HIV care and/or ART register)\n",
      "hiv_reg_all Notification  Number of adults and children currently enrolled in HIV treatment during the year.\n",
      "hiv_reg_new Notification  Number of adults and children newly enrolled in HIV treatment  (i.e. those who registered for antiretroviral therapy) during the reporting period\n",
      "hiv_reg_new2 Notification  Total number of adults and children newly enrolled in HIV treatment  (i.e. those who registered for antiretroviral therapy) during the reporting period\n",
      "hiv_tbdetect Notification  Total number of adults and children newly enrolled in HIV treatment who are diagnosed as having active TB disease during the reporting period\n",
      "hiv_tbscr Notification  Number of adults and children enrolled in HIV care who had their TB status assessed and recorded during their last visit\n",
      "hivtest Notification  TB patients (new and re-treatment) with an HIV test result recorded in the TB register\n",
      "hivtest_pos Notification  TB patients (new and re-treatment) recorded as HIV-positive\n",
      "mdr_shortreg_tx Notification  Number of patients started on shorter MDR-TB treatment regiments during the reporting year\n",
      "mdr_shortreg_used Notification 0=No; 1=Yes; 3=Don't know Had any patients been started on shorter MDR-TB treatment regimens by the end of the reporting year?\n",
      "mdr_tx_adsm Notification  Number of patients actively monitored for adverse events while on MDR-TB treatment in the reporting year\n",
      "mdr_tx_adverse_events Notification  Number of patients on MDR-TB treatment who had adverse events registered in the reporting year\n",
      "mdrxdr_alloral_tx Notification  Number of patients started on all oral longer MDR-TB treatment regimens during the reporting year\n",
      "mdrxdr_alloral_used Notification 0=No; 1=Yes; 3=Don't know Had any patients been started on all oral longer MDR-TB treatment regimens by the end of reporting year?\n",
      "mdrxdr_bdq_tx Notification  Number of patients started on Bedaquiline during the reporting year\n",
      "mdrxdr_bdq_used Notification 0=No; 1=Yes; 3=Don't know Had any TB patients been started on Bedaquiline for the treatment of MDR-/XDR-TB by the end of reporting year as part of expanded access, compassionate use or under normal programmatic use, whether in the public or private sector?\n",
      "mdrxdr_dlm_tx Notification  Number of patients started on Delamanid during the reporting year\n",
      "mdrxdr_dlm_used Notification 0=No; 1=Yes; 3=Don't know Had any TB patients been started on Delamanid for the treatment of MDR-/XDR-TB by the end of reporting as part of expanded access, compassionate use or under normal programmatic use, whether in the public or private sector?\n",
      "new_clindx Notification  New pulmonary clinically diagnosed TB cases (not bacteriologically confirmed as positive for TB, but diagnosed with active TB by a clinician or another medical practitioner who has decided to give the patient a full course of TB treatment).  It also includes pulmonary clinically diagnosed cases with unknown previous TB treatment history.\n",
      "new_ep Notification  New extrapulmonary cases (bacteriologically confirmed or clinically diagnosed). As of 2013 this also includes extrapulmonary cases with unknown previous TB treatment history.\n",
      "new_ep_f014 Notification  New extrapulmonary cases: females aged 0-14 years (not used after 2012)\n",
      "new_ep_f04 Notification  New extrapulmonary cases: females aged 0-4 years (not used after 2012)\n",
      "new_ep_f1524 Notification  New extrapulmonary cases: females aged 15-24 years (not used after 2012)\n",
      "new_ep_f15plus Notification  New extrapulmonary cases: females aged 15 years and over (not used after 2012)\n",
      "new_ep_f2534 Notification  New extrapulmonary cases: females aged 25-34 years (not used after 2012)\n",
      "new_ep_f3544 Notification  New extrapulmonary cases: females aged 35-44 years (not used after 2012)\n",
      "new_ep_f4554 Notification  New extrapulmonary cases: females aged 45-54 years (not used after 2012)\n",
      "new_ep_f514 Notification  New extrapulmonary cases: females aged 5-14 years (not used after 2012)\n",
      "new_ep_f5564 Notification  New extrapulmonary cases: females aged 55-64 years (not used after 2012)\n",
      "new_ep_f65 Notification  New extrapulmonary cases: females aged 65 years and over (not used after 2012)\n",
      "new_ep_fu Notification  New extrapulmonary cases: females age unknown (not used after 2012)\n",
      "new_ep_m014 Notification  New extrapulmonary cases: males aged 0-14 years (not used after 2012)\n",
      "new_ep_m04 Notification  New extrapulmonary cases: males aged 0-4 years (not used after 2012)\n",
      "new_ep_m1524 Notification  New extrapulmonary cases: males aged 15-24 years (not used after 2012)\n",
      "new_ep_m15plus Notification  New extrapulmonary cases: males aged 15 years and over (not used after 2012)\n",
      "new_ep_m2534 Notification  New extrapulmonary cases: males aged 25-34 years (not used after 2012)\n",
      "new_ep_m3544 Notification  New extrapulmonary cases: males aged 35-44 years (not used after 2012)\n",
      "new_ep_m4554 Notification  New extrapulmonary cases: males aged 45-54 years (not used after 2012)\n",
      "new_ep_m514 Notification  New extrapulmonary cases: males aged 5-14 years (not used after 2012)\n",
      "new_ep_m5564 Notification  New extrapulmonary cases: males aged 55-64 years (not used after 2012)\n",
      "new_ep_m65 Notification  New extrapulmonary cases: males aged 65 years and over (not used after 2012)\n",
      "new_ep_mu Notification  New extrapulmonary cases: males age unknown (not used after 2012)\n",
      "new_ep_sexunk014 Notification  New extrapulmonary cases: sex unknown, aged 0-14 years (not used after 2012)\n",
      "new_ep_sexunk04 Notification  New extrapulmonary cases: sex unknown, aged 0-4 years (not used after 2012)\n",
      "new_ep_sexunk15plus Notification  New extrapulmonary cases: sex unknown, aged 15 years and over (not used after 2012)\n",
      "new_ep_sexunk514 Notification  New extrapulmonary cases: sex unknown, aged 5-14 years (not used after 2012)\n",
      "new_ep_sexunkageunk Notification  New extrapulmonary cases: sex unknown, age unknown (not used after 2012)\n",
      "new_labconf Notification  New pulmonary bacteriologically confirmed TB cases (smear positive or culture positive or positive by WHO-recommended rapid diagnostics such as Xpert MTB/RIF). As of 2013 this also includes pulmonary bacteriologically confirmed cases with unknown previous TB treatment history.\n",
      "new_oth Notification  Other new cases (not used after 2012)\n",
      "new_sn Notification  New pulmonary smear-negative cases (not used after 2012)\n",
      "new_sn_f014 Notification  New pulmonary smear negative/smear unknown/smear not done cases: females aged 0-14 years (not used after 2012)\n",
      "new_sn_f04 Notification  New pulmonary smear negative/smear unknown/smear not done cases: females aged 0-4 years (not used after 2012)\n",
      "new_sn_f1524 Notification  New pulmonary smear negative/smear unknown/smear not done cases: females aged 15-24 years (not used after 2012)\n",
      "new_sn_f15plus Notification  New pulmonary smear negative/smear unknown/smear not done cases: females aged 15 years and over (not used after 2012)\n",
      "new_sn_f2534 Notification  New pulmonary smear negative/smear unknown/smear not done cases: females aged 25-34 years (not used after 2012)\n",
      "new_sn_f3544 Notification  New pulmonary smear negative/smear unknown/smear not done cases: females aged 35-44 years (not used after 2012)\n",
      "new_sn_f4554 Notification  New pulmonary smear negative/smear unknown/smear not done cases: females aged 45-54 years (not used after 2012)\n",
      "new_sn_f514 Notification  New pulmonary smear negative/smear unknown/smear not done cases: females aged 5-14 years (not used after 2012)\n",
      "new_sn_f5564 Notification  New pulmonary smear negative/smear unknown/smear not done cases: females aged 55-64 years (not used after 2012)\n",
      "new_sn_f65 Notification  New pulmonary smear negative/smear unknown/smear not done cases: females aged 65 years and over (not used after 2012)\n",
      "new_sn_fu Notification  New pulmonary smear negative/smear unknown/smear not done cases: females age unknown (not used after 2012)\n",
      "new_sn_m014 Notification  New pulmonary smear negative/smear unknown/smear not done cases: males aged 0-14 years (not used after 2012)\n",
      "new_sn_m04 Notification  New pulmonary smear negative/smear unknown/smear not done cases: males aged 0-4 years (not used after 2012)\n",
      "new_sn_m1524 Notification  New pulmonary smear negative/smear unknown/smear not done cases: males aged 15-24 years (not used after 2012)\n",
      "new_sn_m15plus Notification  New pulmonary smear negative/smear unknown/smear not done cases: males aged 15 years and above (not used after 2012)\n",
      "new_sn_m2534 Notification  New pulmonary smear negative/smear unknown/smear not done cases: males aged 25-34 years (not used after 2012)\n",
      "new_sn_m3544 Notification  New pulmonary smear negative/smear unknown/smear not done cases: males aged 35-44 years (not used after 2012)\n",
      "new_sn_m4554 Notification  New pulmonary smear negative/smear unknown/smear not done cases: males aged 45-54 years (not used after 2012)\n",
      "new_sn_m514 Notification  New pulmonary smear negative/smear unknown/smear not done cases: males aged 5-14 years (not used after 2012)\n",
      "new_sn_m5564 Notification  New pulmonary smear negative/smear unknown/smear not done cases: males aged 55-64 years (not used after 2012)\n",
      "new_sn_m65 Notification  New pulmonary smear negative/smear unknown/smear not done cases: males aged 65 years and over (not used after 2012)\n",
      "new_sn_mu Notification  New pulmonary smear negative/smear unknown/smear not done cases: males age unknown (not used after 2012)\n",
      "new_sn_sexunk014 Notification  New pulmonary smear negative/smear unknown/smear not done cases: sex unknown, aged 0-14 years (not used after 2012)\n",
      "new_sn_sexunk04 Notification  New pulmonary smear negative/smear unknown/smear not done cases: sex unknown, aged 0-4 years (not used after 2012)\n",
      "new_sn_sexunk15plus Notification  New pulmonary smear negative/smear unknown/smear not done cases: sex unknown, aged 15 years and over (not used after 2012)\n",
      "new_sn_sexunk514 Notification  New pulmonary smear negative/smear unknown/smear not done cases: sex unknown, aged 5-14 years (not used after 2012)\n",
      "new_sn_sexunkageunk Notification  New pulmonary smear negative/smear unknown/smear not done cases: sex unknown, age unknown (not used after 2012)\n",
      "new_sp Notification  New pulmonary smear-positive cases (not used after 2012)\n",
      "new_sp_f014 Notification  New pulmonary smear positive cases: females aged 0-14 years (not used after 2012)\n",
      "new_sp_f04 Notification  New pulmonary smear positive cases: females aged 0-4 years (not used after 2012)\n",
      "new_sp_f1524 Notification  New pulmonary smear positive cases: females aged 15-24 years (not used after 2012)\n",
      "new_sp_f2534 Notification  New pulmonary smear positive cases: females aged 25-34 years (not used after 2012)\n",
      "new_sp_f3544 Notification  New pulmonary smear positive cases: females aged 35-44 years (not used after 2012)\n",
      "new_sp_f4554 Notification  New pulmonary smear positive cases: females aged 45-54 years (not used after 2012)\n",
      "new_sp_f514 Notification  New pulmonary smear positive cases: females aged 5-14 years (not used after 2012)\n",
      "new_sp_f5564 Notification  New pulmonary smear positive cases: females aged 55-64 years (not used after 2012)\n",
      "new_sp_f65 Notification  New pulmonary smear positive cases: females aged 65 and over (not used after 2012)\n",
      "new_sp_fu Notification  New pulmonary smear positive cases: females age unknown (not used after 2012)\n",
      "new_sp_m014 Notification  New pulmonary smear positive cases: males aged 0-14 years (not used after 2012)\n",
      "new_sp_m04 Notification  New pulmonary smear positive cases: males aged 0-4 years (not used after 2012)\n",
      "new_sp_m1524 Notification  New pulmonary smear positive cases: males aged 15-24 years (not used after 2012)\n",
      "new_sp_m2534 Notification  New pulmonary smear positive cases: males aged 25-34 years (not used after 2012)\n",
      "new_sp_m3544 Notification  New pulmonary smear positive cases: males aged 35-44 years (not used after 2012)\n",
      "new_sp_m4554 Notification  New pulmonary smear positive cases: males aged 45-54 years (not used after 2012)\n",
      "new_sp_m514 Notification  New pulmonary smear positive cases: males aged 5-14 years (not used after 2012)\n",
      "new_sp_m5564 Notification  New pulmonary smear positive cases: males aged 55-64 years (not used after 2012)\n",
      "new_sp_m65 Notification  New pulmonary smear positive cases: males aged 65 years and over (not used after 2012)\n",
      "new_sp_mu Notification  New pulmonary smear positive cases: males age unknown (not used after 2012)\n",
      "new_su Notification  New pulmonary smear unknown/not done cases\n",
      "newinc_rdx Notification  (if rdx_data_available=60) Number of new and relapse cases notified and tested using a WHO-recommended rapid diagnostic (for example Xpert MTB/RIF) at the time of TB diagnosis (regardless of test result)\n",
      "newrel_art Notification  HIV-positive new and relapse (or all, if newrel_tbhiv_flg = 0 and year > 2015) TB patients started or continued on antiretroviral therapy\n",
      "newrel_f014 Notification  New and relapse cases (but only new cases if rel_in_agesex_flg = 0): females aged 0-14 years\n",
      "newrel_f04 Notification  New and relapse cases (but only new cases if rel_in_agesex_flg = 0): females aged 0-4 years\n",
      "newrel_f1014 Notification  New and relapse cases (but only new cases if rel_in_agesex_flg = 0): females aged 10-14 years\n",
      "newrel_f1519 Notification  New and relapse cases (but only new cases if rel_in_agesex_flg = 0): females aged 15-19 years\n",
      "newrel_f1524 Notification  New and relapse cases (but only new cases if rel_in_agesex_flg = 0): females aged 15-24 years\n",
      "newrel_f15plus Notification  New and relapse cases (but only new cases if rel_in_agesex_flg = 0): females aged 15 years and over\n",
      "newrel_f2024 Notification  New and relapse cases (but only new cases if rel_in_agesex_flg = 0): females aged 20-24 years\n",
      "newrel_f2534 Notification  New and relapse cases (but only new cases if rel_in_agesex_flg = 0): females aged 25-34 years\n",
      "newrel_f3544 Notification  New and relapse cases (but only new cases if rel_in_agesex_flg = 0): females aged 35-44 years\n",
      "newrel_f4554 Notification  New and relapse cases (but only new cases if rel_in_agesex_flg = 0): females aged 45-54 years\n",
      "newrel_f514 Notification  New and relapse cases (but only new cases if rel_in_agesex_flg = 0): females aged 5-14 years\n",
      "newrel_f5564 Notification  New and relapse cases (but only new cases if rel_in_agesex_flg = 0): females aged 55-64 years\n",
      "newrel_f59 Notification  New and relapse cases (but only new cases if rel_in_agesex_flg = 0): females aged 5-9 years\n",
      "newrel_f65 Notification  New and relapse cases (but only new cases if rel_in_agesex_flg = 0): females aged 65 years and over\n",
      "newrel_fu Notification  New and relapse cases (but only new cases if rel_in_agesex_flg = 0): females age unknown\n",
      "newrel_hivpos Notification  Number of new and relapse  (or all, if newrel_tbhiv_flg = 0 and year > 2015) TB patients recorded as HIV-positive\n",
      "newrel_hivtest Notification  Number of new and relapse (or all, if newrel_tbhiv_flg = 0 and year > 2015) TB patients tested for HIV at the time of TB diagnosis or with known HIV status at the time of TB diagnosis\n",
      "newrel_m014 Notification  New and relapse cases (but only new cases if rel_in_agesex_flg = 0): males aged 0-14 years\n",
      "newrel_m04 Notification  New and relapse cases (but only new cases if rel_in_agesex_flg = 0): males aged 0-4 years\n",
      "newrel_m1014 Notification  New and relapse cases (but only new cases if rel_in_agesex_flg = 0): males aged 10-14 years\n",
      "newrel_m1519 Notification  New and relapse cases (but only new cases if rel_in_agesex_flg = 0): males aged 15-19 years\n",
      "newrel_m1524 Notification  New and relapse cases (but only new cases if rel_in_agesex_flg = 0): males aged 15-24 years\n",
      "newrel_m15plus Notification  New and relapse cases (but only new cases if rel_in_agesex_flg = 0): males aged 15 years and over\n",
      "newrel_m2024 Notification  New and relapse cases (but only new cases if rel_in_agesex_flg = 0): males aged 20-24 years\n",
      "newrel_m2534 Notification  New and relapse cases (but only new cases if rel_in_agesex_flg = 0): males aged 25-34 years\n",
      "newrel_m3544 Notification  New and relapse cases (but only new cases if rel_in_agesex_flg = 0): males aged 35-44 years\n",
      "newrel_m4554 Notification  New and relapse cases (but only new cases if rel_in_agesex_flg = 0): males aged 45-54 years\n",
      "newrel_m514 Notification  New and relapse cases (but only new cases if rel_in_agesex_flg = 0): males aged 5-14 years\n",
      "newrel_m5564 Notification  New and relapse cases (but only new cases if rel_in_agesex_flg = 0): males aged 55-64 years\n",
      "newrel_m59 Notification  New and relapse cases (but only new cases if rel_in_agesex_flg = 0): males aged 5-9 years\n",
      "newrel_m65 Notification  New and relapse cases (but only new cases if rel_in_agesex_flg = 0): males aged 65 years and over\n",
      "newrel_mu Notification  New and relapse cases (but only new cases if rel_in_agesex_flg = 0): males age unknown\n",
      "newrel_sexunk014 Notification  New and relapse cases (but only new cases if rel_in_agesex_flg = 0): sex unknown, aged 0-14 years\n",
      "newrel_sexunk04 Notification  New and relapse cases (but only new cases if rel_in_agesex_flg = 0): sex unknown, aged 0-4 years\n",
      "newrel_sexunk15plus Notification  New and relapse cases (but only new cases if rel_in_agesex_flg = 0): sex unknown, aged 15 years and over\n",
      "newrel_sexunk514 Notification  New and relapse cases (but only new cases if rel_in_agesex_flg = 0): sex unknown, aged 5-14 years\n",
      "newrel_sexunkageunk Notification  New and relapse cases (but only new cases if rel_in_agesex_flg = 0): sex unknown, age unknown\n",
      "newrel_tbhiv_flg Notification 0=No; 1=Yes. Are data on HIV testing, HIV positivity and provision of antiretroviral therapy (ART) restricted to new and relapse TB cases only?\n",
      "newret_oth Notification  Other cases not included in new and re-treatment case numbers\n",
      "notif_foreign Notification  New and re-treatment TB cases among foreign-born individuals\n",
      "rdst_new Notification  Number of TB cases (pulmonary or extrapulmonary) tested for susceptibility to rifampicin using phenotypic DST or WHO-recommended rapid molecular diagnostics (e.g. Xpert MTB/RIF), before or after starting treatment: new cases\n",
      "rdst_ret Notification  Number of TB cases (pulmonary or extrapulmonary) tested for susceptibility to rifampicin using phenotypic DST or WHO-recommended rapid molecular diagnostics (e.g. Xpert MTB/RIF), before or after starting treatment: previously treated cases\n",
      "rdst_unk Notification  Number of TB cases (pulmonary or extrapulmonary) tested for susceptibility to rifampicin using phenotypic DST or WHO-recommended rapid molecular diagnostics (e.g. Xpert MTB/RIF), before or after starting treatment: cases with unknown previous TB treatment history\n",
      "rdx_data_available Notification 0=No; 60= Yes available from the routine surveillance system; 61=Yes estimated from a review of a random sample of medical records or treatment cards of TB patients representative of the national TB patient population Are data available on the number of new and relapse cases tested using a WHO-recommended rapid diagnostic during the reporting year?\n",
      "rdxsurvey_newinc Notification  (if rdx_data_available=61) Number of new and relapse cases whose medical records or treatment cards were included in the survey\n",
      "rdxsurvey_newinc_rdx Notification  (if rdx_data_available=61) Among the cases reported in rdxsurvey_newinc the number tested using a WHO-recommended rapid diagnostic (such as Xpert MTB/RIF) at the time of TB diagnosis (regardless of test result)\n",
      "rel_in_agesex_flg Notification 0=No; 1=Yes. Are all relapse cases included with new cases in the disaggregations by age and sex?\n",
      "ret_nrel Notification  Previously treated patients, excluding relapse cases (pulmonary or extrapulmonary, bacteriologically confirmed or clinically diagnosed)\n",
      "ret_oth Notification  Other re-treatment cases\n",
      "ret_rel Notification  Relapse cases\n",
      "ret_rel_clindx Notification  Relapse pulmonary clinically diagnosed TB cases (not bacteriologically confirmed as positive for TB, but diagnosed with active TB by a clinician or another medical practitioner who has decided to give the patient a full course of TB treatment).\n",
      "ret_rel_ep Notification  Relapse extrapulmonary cases (bacteriologically confirmed or clinically diagnosed)\n",
      "ret_rel_labconf Notification  Relapse  pulmonary bacteriologically confirmed TB cases (smear positive or culture positive or positive by WHO-recommended rapid diagnostics such as Xpert MTB/RIF).\n",
      "ret_tad Notification  Treatment after default cases\n",
      "ret_taf Notification  Treatment after failure cases\n",
      "rr_sldst Notification  Number of laboratory-confirmed RR-TB or MDR-TB cases tested for susceptibility to second-line drugs (fluoroquinolones and second-line injectable agents)\n",
      "rrmdr_014_tx Notification  The number of children aged 0-14 years among patients who started treatment for MDR-TB (regardless of whether rifampicin resistance was confirmed)\n",
      "unconf_mdr_tx Notification  Number of MDR-TB (not laboratory-confirmed) patients who started treatment for MDR-TB\n",
      "unconf_rrmdr_tx Notification  Number of patients (not laboratory-confirmed as having rifampicin-resistant (RR-TB) or multidrg-resistant TB (MDR-TB)) who started treatment for MDR-TB\n",
      "c_new_snep_tsr Outcomes  Treatment success rate for new pulmonary smear-negative/extrapulmonary/smear unknown/smear not done cases, percent  (not used after 2011)\n",
      "c_new_sp_tsr Outcomes  Treatment success rate for new pulmonary smear-positive (and/or culture-positive) cases, percent  (not used after 2011)\n",
      "c_new_tsr Outcomes  Treatment success rate for all new cases (including relapse cases if rel_with_new_flg = 1), percent\n",
      "c_newrel_014_tsr Outcomes  Treatment success rate for new and relapse cases in children aged 0-14 years, percent\n",
      "c_ret_tsr Outcomes  Treatment success rate for re-treatment cases (excluding relapse cases if rel_with_new_flg = 1), percent\n",
      "c_tbhiv_tsr Outcomes  Treatment success rate for HIV-positive TB cases, percent\n",
      "hiv_new_snep_cmplt Outcomes  Outcomes for new pulmonary smear-negative/extrapulmonary/smear unknown/smear not done HIV-positive TB cases: completed  (not used after 2011)\n",
      "hiv_new_snep_coh Outcomes  Outcomes for new pulmonary smear-negative/extrapulmonary/smear unknown/smear not done HIV-positive TB cases: cohort size  (not used after 2011)\n",
      "hiv_new_snep_def Outcomes  Outcomes for new pulmonary smear-negative/extrapulmonary/smear unknown/smear not done HIV-positive TB cases: defaulted  (not used after 2011)\n",
      "hiv_new_snep_died Outcomes  Outcomes for new pulmonary smear-negative/extrapulmonary/smear unknown/smear not done HIV-positive TB cases: died  (not used after 2011)\n",
      "hiv_new_snep_fail Outcomes  Outcomes for new pulmonary smear-negative/extrapulmonary/smear unknown/smear not done HIV-positive TB cases: failed (not used after 2011)\n",
      "hiv_new_sp_cmplt Outcomes  Outcomes for new pulmonary smear-positive (and/or culture-positive) HIV-positive TB cases: completed (not used after 2011)\n",
      "hiv_new_sp_coh Outcomes  Outcomes for new pulmonary smear-positive (and/or culture-positive) HIV-positive TB cases: cohort size (not used after 2011)\n",
      "hiv_new_sp_cur Outcomes  Outcomes for new pulmonary smear-positive (and/or culture-positive) HIV-positive TB cases: cured (not used after 2011)\n",
      "hiv_new_sp_def Outcomes  Outcomes for new pulmonary smear-positive (and/or culture-positive) HIV-positive TB cases: defaulted (not used after 2011)\n",
      "hiv_new_sp_died Outcomes  Outcomes for new pulmonary smear-positive (and/or culture-positive) HIV-positive TB cases: died (not used after 2011)\n",
      "hiv_new_sp_fail Outcomes  Outcomes for new pulmonary smear-positive (and/or culture-positive) HIV-positive TB cases: failed (not used after 2011)\n",
      "hiv_ret_cmplt Outcomes  Outcomes for re-treatment HIV-positive TB cases: completed (not used after 2011)\n",
      "hiv_ret_coh Outcomes  Outcomes for re-treatment HIV-positive TB cases: cohort size (not used after 2011)\n",
      "hiv_ret_cur Outcomes  Outcomes for re-treatment HIV-positive TB cases: cured (not used after 2011)\n",
      "hiv_ret_def Outcomes  Outcomes for re-treatment HIV-positive TB cases: defaulted (not used after 2011)\n",
      "hiv_ret_died Outcomes  Outcomes for re-treatment HIV-positive TB cases: died (not used after 2011)\n",
      "hiv_ret_fail Outcomes  Outcomes for re-treatment HIV-positive TB cases: failed (not used after 2011)\n",
      "mdr_coh Outcomes  Outcomes for MDR-TB cases: cohort size\n",
      "mdr_died Outcomes  Outcomes for MDR-TB cases: died\n",
      "mdr_fail Outcomes  Outcomes for MDR-TB cases: treatment failed\n",
      "mdr_lost Outcomes  Outcomes for MDR-TB cases: lost to follow-up\n",
      "mdr_succ Outcomes  Outcomes for MDR-TB cases: treatment success (Cured or treatment completed)\n",
      "new_snep_cmplt Outcomes  Outcomes for new pulmonary smear-negative/extrapulmonary/smear unknown/smear not done cases: completed (not used after 2011)\n",
      "new_snep_coh Outcomes  Outcomes for new pulmonary smear-negative/extrapulmonary/smear unknown/smear not done cases: cohort size (not used after 2011)\n",
      "new_snep_def Outcomes  Outcomes for new pulmonary smear-negative/extrapulmonary/smear unknown/smear not done cases: defauled (not used after 2011)\n",
      "new_snep_died Outcomes  Outcomes for new pulmonary smear-negative/extrapulmonary/smear unknown/smear not done cases: died (not used after 2011)\n",
      "new_snep_fail Outcomes  Outcomes for new pulmonary smear-negative/extrapulmonary/smear unknown/smear not done cases: failed (not used after 2011)\n",
      "new_sp_cmplt Outcomes  Outcomes for new pulmonary smear-positive (and/or culture-positive) cases: completed (not used after 2011)\n",
      "new_sp_coh Outcomes  Outcomes for new pulmonary smear-positive (and/or culture-positive) cases: cohort size (not used after 2011)\n",
      "new_sp_cur Outcomes  Outcomes for new pulmonary smear-positive (and/or culture-positive) cases: cured (not used after 2011)\n",
      "new_sp_def Outcomes  Outcomes for new pulmonary smear-positive (and/or culture-positive) cases: defaulted (not used after 2011)\n",
      "new_sp_died Outcomes  Outcomes for new pulmonary smear-positive (and/or culture-positive) cases: died (not used after 2011)\n",
      "new_sp_fail Outcomes  Outcomes for new pulmonary smear-positive (and/or culture-positive) cases: failed (not used after 2011)\n",
      "newrel_014_coh Outcomes  Outcomes for new and relapse cases in children aged 0-14 years: cohort size\n",
      "newrel_014_died Outcomes  Outcomes for new and relapse cases in children aged 0-14 years: died\n",
      "newrel_014_fail Outcomes  Outcomes for new and relapse cases in children aged 0-14 years: treatment failed\n",
      "newrel_014_lost Outcomes  Outcomes for new and relapse cases in children aged 0-14 years: lost to follow-up\n",
      "newrel_014_succ Outcomes  Outcomes for new and relapse cases in children aged 0-14 years: treatment success\n",
      "newrel_coh Outcomes  Outcomes for all new and relapse cases (but only new cases if rel_with_new_flg = 0): cohort size\n",
      "newrel_died Outcomes  Outcomes for all new and relapse cases (but only new cases if rel_with_new_flg = 0): died\n",
      "newrel_fail Outcomes  Outcomes for all new and relapse cases (but only new cases if rel_with_new_flg = 0): treatment failed\n",
      "newrel_lost Outcomes  Outcomes for all new and relapse cases (but only new cases if rel_with_new_flg = 0): lost to follow-up\n",
      "newrel_succ Outcomes  Outcomes for all new and relapse cases (but only new cases if rel_with_new_flg = 0): treatment success (cured or treatment completed)\n",
      "rel_with_new_flg Outcomes 0=No; 1=Yes; Are outcomes of relapse cases included in the newrel outcome variables?\n",
      "rep_meth Outcomes 100=smear;101=culture;102=smear or culture; Method of confirmation used to report treatment outcomes of pulmonary cases  (not used after 2011)\n",
      "ret_cmplt Outcomes  Outcomes for re-treatment cases: completed  (not used after 2011)\n",
      "ret_coh Outcomes  Outcomes for re-treatment cases: cohort size (not used after 2011)\n",
      "ret_cur Outcomes  Outcomes for re-treatment cases: cured (not used after 2011)\n",
      "ret_def Outcomes  Outcomes for re-treatment cases: defaulted (not used after 2011)\n",
      "ret_died Outcomes  Outcomes for re-treatment cases: died (not used after 2011)\n",
      "ret_fail Outcomes  Outcomes for re-treatment cases: failed (not used after 2011)\n",
      "ret_nrel_coh Outcomes  Outcomes for previously treated patients (excluding relapse cases if rel_with_new_flg = 1): cohort size\n",
      "ret_nrel_died Outcomes  Outcomes for previously treated patients (excluding relapse cases if rel_with_new_flg = 1): died\n",
      "ret_nrel_fail Outcomes  Outcomes for previously treated patients (excluding relapse cases if rel_with_new_flg = 1): treatment failed\n",
      "ret_nrel_lost Outcomes  Outcomes for previously treated patients (excluding relapse cases if rel_with_new_flg = 1): lost to follow-up\n",
      "ret_nrel_succ Outcomes  Outcomes for previously treated patients (excluding relapse cases if rel_with_new_flg = 1): treatment success (cured or treatment completed)\n",
      "tbhiv_coh Outcomes  Outcomes for HIV-positive TB cases, all types: cohort size\n",
      "tbhiv_died Outcomes  Outcomes for HIV-positive TB cases, all types: died\n",
      "tbhiv_fail Outcomes  Outcomes for HIV-positive TB cases, all types: treatment failed\n",
      "tbhiv_lost Outcomes  Outcomes for HIV-positive TB cases, all types: lost to follow-up\n",
      "tbhiv_succ Outcomes  Outcomes for HIV-positive TB cases, all types: treatment success (cured or treatment completed)\n",
      "xdr_coh Outcomes  Outcomes for XDR-TB cases: cohort size\n",
      "xdr_died Outcomes  Outcomes for XDR-TB cases: number died\n",
      "xdr_fail Outcomes  Outcomes for XDR-TB cases: number whose treatment failed\n",
      "xdr_lost Outcomes  Outcomes for XDR-TB cases: lost to follow-up\n",
      "xdr_succ Outcomes  Outcomes for XDR-TB cases: treatment success (Cured or treatment completed)\n",
      "caseb_err_nat Policies and services 0=No; 42=Yes (all TB patients in the country); 43=Yes (but only for MDR-TB patients countrywide) Did the National Treatment Programme keep (or have access to) an electronic case-based database for TB patients on treatment at national level\n",
      "digital_adherence_support Policies and services 3=don't know; 210=Not used by any treatment centre; 211=Used only by public sector treatment centres; 212=Used only by private sector treatment centres; 213=Used by public and private  sector treatment centres Did any treatment centre use digital technologies such as short text messaging via mobile phones, video-communication or electronic medication monitors to support TB medication adherence in patients at risk of interrupting treatment?\n",
      "free_dx_followup Policies and services 0=No; 1=yes Does national policy indicate that TB diagnostic and follow-up tests provided through the national TB programme are free of charge or that fees can be fully reimbursed through health insurance, or both, for all people with signs or symptoms of TB?\n",
      "hcw_tb_infected Policies and services  Number of health-care workers who had TB\n",
      "hcw_tot Policies and services  Total number of health-care workers who were working in the country in the public and private sector\n",
      "lf_urine_lam Policies and services 0=No; 1=yes Does national policy and the diagnostic algorithm indicate the use of the lateral flow urine lipoarabinomannan assay (LF-LAM) to assist in the detection of TB in people living with HIV?\n",
      "mdrxdr_fail_morphine Policies and services  Number of patients who started second-line TB treatment 3 years previously whose treatment failed and who received oral morphine by prescription to treat pain or terminal dyspnoea\n",
      "priv_new_dx Policies and services  Number of new cases of TB diagnosed according to National Treatment Programme (NTP)  guidelines by private providers\n",
      "pub_new_dx Policies and services  Number of new cases of TB diagnosed according to National Treatment Programme (NTP)  guidelines by non-NTP public providers\n",
      "universal_dst Policies and services 0=No; 1=yes Does national policy and the diagnostic algorithm indicate there is universal access to drug susceptibility testing?\n",
      "wrd_initial_test Policies and services 0=No; 1=yes Does national policy and the diagnostic algorithm indicate a WHO-recommended rapid diagnostic as the initial diagnostic test for all people with signs or symptoms of TB?\n",
      "ep_spec_available Zoonotic TB 0=No; 1=Yes; 2=Not applicable Are data available on the number of bacteriologically confirmed extrapulmonary TB cases with test results for the speciation of the Mycobacterium tuberculosis complex in the reporting year?\n",
      "newrel_ep_labconf Zoonotic TB  (if ep_spec_available=1) Among the new and relapse extrapulmonary TB cases reported in new_ep and ret_rel_ep, the number of cases that were bacteriologically confirmed, i.e. by culture or molecular technologies\n",
      "newrel_ep_mbovis Zoonotic TB  (if ep_spec_available=1) Among extrapulmonary TB cases with test results for speciation reported in newrel_ep_spec, number of cases identified as having Mycobacterium bovis\n",
      "newrel_ep_spec Zoonotic TB  (if ep_spec_available=1) Among bacteriologically confirmed extrapulmonary TB cases reported in newrel_ep_labconf, number of cases with test results for the speciation of the Mycobacterium tuberculosis complex\n",
      "newrel_pulm_mbovis Zoonotic TB  (if pulm_spec_available=1) Among pulmonary cases with test results for speciation reported in newrel_pulm_spec, number of cases identified as having Mycobacterium bovis\n",
      "newrel_pulm_spec Zoonotic TB  (if pulm_spec_available=1) Among bacteriologically confirmed new and relapse pulmonary TB cases, number of cases with test results for the speciation of the Mycobacterium tuberculosis complex\n",
      "pulm_spec_available Zoonotic TB 0=No; 1=Yes; 2=Not applicable Are data available on the number of bacteriologically confirmed pulmonary TB cases with test results for the speciation of the Mycobacterium tuberculosis complex in the reporting year?\n"
     ]
    }
   ],
   "source": [
    "import csv\n",
    "\n",
    "def csv_reader(file_obj):\n",
    "    \"\"\"\n",
    "    Read a csv file\n",
    "    \"\"\"\n",
    "    reader = csv.reader(file_obj)\n",
    "    for row in reader:\n",
    "        print(\" \".join(row))\n",
    "\n",
    "if __name__ == \"__main__\":\n",
    "    csv_path = \"TB_data_dictionary_2014-02-26.csv\"\n",
    "    with open(\"TB_data_dictionary_2021-05-01.csv\", \"r\") as f_obj:\n",
    "        csv_reader(f_obj)"
   ]
  },
  {
   "cell_type": "code",
   "execution_count": 90,
   "id": "cc537c33",
   "metadata": {},
   "outputs": [
    {
     "name": "stdout",
     "output_type": "stream",
     "text": [
      "Tyrese\n",
      "Hirthe\n",
      "Jules\n",
      "Dicki\n",
      "Dedric\n",
      "Medhurst\n"
     ]
    }
   ],
   "source": [
    "import csv\n",
    "\n",
    "def csv_dict_reader(file_obj):\n",
    "    \"\"\"\n",
    "    Read a CSV file using csv.DictReader\n",
    "    \"\"\"\n",
    "    reader = csv.DictReader(file_obj, delimiter=',')\n",
    "    for line in reader:\n",
    "        print(line[\"first_name\"]),\n",
    "        print(line[\"last_name\"])\n",
    "\n",
    "if __name__ == \"__main__\":\n",
    "    with open(\"simple_csv.csv\") as f_obj:\n",
    "        csv_dict_reader(f_obj)"
   ]
  },
  {
   "cell_type": "markdown",
   "id": "d577b041",
   "metadata": {},
   "source": [
    "# Chapter 14 - configparser\n",
    "They are usually used for storing your application’s settings or even your operating system’s settings."
   ]
  },
  {
   "cell_type": "code",
   "execution_count": 91,
   "id": "a75eb0a2",
   "metadata": {},
   "outputs": [],
   "source": [
    "import configparser\n",
    "\n",
    "\n",
    "\n",
    "def createConfig(path):\n",
    "    \"\"\"\n",
    "    Create a config file\n",
    "    \"\"\"\n",
    "    config = configparser.ConfigParser()\n",
    "    config.add_section(\"Settings\")\n",
    "    config.set(\"Settings\", \"font\", \"Courier\")\n",
    "    config.set(\"Settings\", \"font_size\", \"10\")\n",
    "    config.set(\"Settings\", \"font_style\", \"Normal\")\n",
    "    config.set(\"Settings\", \"font_info\",\n",
    "               \"You are using %(font)s at %(font_size)s pt\")\n",
    "\n",
    "    with open(path, \"w\") as config_file:\n",
    "        config.write(config_file)\n",
    "\n",
    "\n",
    "if __name__ == \"__main__\":\n",
    "    path = \"settings.ini\"\n",
    "    createConfig(path)"
   ]
  },
  {
   "cell_type": "markdown",
   "id": "cc7ac832",
   "metadata": {},
   "source": [
    "**How to Read, Update and Delete Options**"
   ]
  },
  {
   "cell_type": "code",
   "execution_count": 93,
   "id": "6daecbfa",
   "metadata": {},
   "outputs": [],
   "source": [
    "import configparser\n",
    "import os\n",
    "\n",
    "def crudConfig(path):\n",
    "    \"\"\"\n",
    "    Create, read, update, delete config\n",
    "    \"\"\"\n",
    "    if not os.path.exists(path):\n",
    "        createConfig(path)\n",
    "\n",
    "    config = configparser.ConfigParser()\n",
    "    config.read(path)\n",
    "\n",
    "    # read some values from the config\n",
    "    font = config.get(\"Settings\", \"font\")\n",
    "    font_size = config.get(\"Settings\", \"font_size\")\n",
    "\n",
    "    # change a value in the config\n",
    "    config.set(\"Settings\", \"font_size\", \"12==20\")\n",
    "\n",
    "    # delete a value from the config\n",
    "    config.remove_option(\"Settings\", \"font_style\")\n",
    "\n",
    "    # write changes back to the config file\n",
    "    with open(path, \"w\") as config_file:\n",
    "        config.write(config_file)\n",
    "\n",
    "\n",
    "if __name__ == \"__main__\":\n",
    "    path = \"settings.ini\"\n",
    "    crudConfig(path)"
   ]
  },
  {
   "cell_type": "code",
   "execution_count": 94,
   "id": "eda6aed1",
   "metadata": {},
   "outputs": [
    {
     "name": "stdout",
     "output_type": "stream",
     "text": [
      "Settings font is Courier\n",
      "Settings font_size is 12==20\n"
     ]
    }
   ],
   "source": [
    "import configparser\n",
    "import os\n",
    "\n",
    "def create_config(path):\n",
    "    \"\"\"\n",
    "    Create a config file\n",
    "    \"\"\"\n",
    "    config = configparser.ConfigParser()\n",
    "    config.add_section(\"Settings\")\n",
    "    config.set(\"Settings\", \"font\", \"Courier\")\n",
    "    config.set(\"Settings\", \"font_size\", \"10\")\n",
    "    config.set(\"Settings\", \"font_style\", \"Normal\")\n",
    "    config.set(\"Settings\", \"font_info\",\n",
    "               \"You are using %(font)s at %(font_size)s pt\")\n",
    "\n",
    "    with open(path, \"w\") as config_file:\n",
    "        config.write(config_file)\n",
    "\n",
    "\n",
    "def get_config(path):\n",
    "    \"\"\"\n",
    "    Returns the config object\n",
    "    \"\"\"\n",
    "    if not os.path.exists(path):\n",
    "        create_config(path)\n",
    "\n",
    "    config = configparser.ConfigParser()\n",
    "    config.read(path)\n",
    "    return config\n",
    "\n",
    "\n",
    "def get_setting(path, section, setting):\n",
    "    \"\"\"\n",
    "    Print out a setting\n",
    "    \"\"\"\n",
    "    config = get_config(path)\n",
    "    value = config.get(section, setting)\n",
    "    msg = \"{section} {setting} is {value}\".format(\n",
    "        section=section, setting=setting, value=value)\n",
    "    print(msg)\n",
    "    return value\n",
    "\n",
    "\n",
    "def update_setting(path, section, setting, value):\n",
    "    \"\"\"\n",
    "    Update a setting\n",
    "    \"\"\"\n",
    "    config = get_config(path)\n",
    "    config.set(section, setting, value)\n",
    "    with open(path, \"w\") as config_file:\n",
    "        config.write(config_file)\n",
    "\n",
    "\n",
    "def delete_setting(path, section, setting):\n",
    "    \"\"\"\n",
    "    Delete a setting\n",
    "    \"\"\"\n",
    "    config = get_config(path)\n",
    "    config.remove_option(section, setting)\n",
    "    with open(path, \"w\") as config_file:\n",
    "        config.write(config_file)\n",
    "\n",
    "\n",
    "\n",
    "if __name__ == \"__main__\":\n",
    "    path = \"settings.ini\"\n",
    "    font = get_setting(path, 'Settings', 'font')\n",
    "    font_size = get_setting(path, 'Settings', 'font_size')\n",
    "\n",
    "    update_setting(path, \"Settings\", \"font_size\", \"12\")\n",
    "\n",
    "    delete_setting(path, \"Settings\", \"font_style\")"
   ]
  },
  {
   "cell_type": "markdown",
   "id": "e2bf0811",
   "metadata": {},
   "source": [
    "# Chapter 15 - Logging"
   ]
  },
  {
   "cell_type": "code",
   "execution_count": null,
   "id": "13c79258",
   "metadata": {},
   "outputs": [],
   "source": []
  }
 ],
 "metadata": {
  "kernelspec": {
   "display_name": "Python 3",
   "language": "python",
   "name": "python3"
  },
  "language_info": {
   "codemirror_mode": {
    "name": "ipython",
    "version": 3
   },
   "file_extension": ".py",
   "mimetype": "text/x-python",
   "name": "python",
   "nbconvert_exporter": "python",
   "pygments_lexer": "ipython3",
   "version": "3.8.5"
  }
 },
 "nbformat": 4,
 "nbformat_minor": 5
}
