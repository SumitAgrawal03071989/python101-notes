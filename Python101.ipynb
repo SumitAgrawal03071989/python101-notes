{
 "cells": [
  {
   "cell_type": "markdown",
   "id": "46db06c7",
   "metadata": {},
   "source": [
    "# Chapter 6 - Python Comprehensions\n",
    "The Python language has a couple of methods for creating lists and dictionaries that are known as comprehensions"
   ]
  },
  {
   "cell_type": "markdown",
   "id": "5768db49",
   "metadata": {},
   "source": [
    "## List Comprehensions"
   ]
  },
  {
   "cell_type": "markdown",
   "id": "f5404488",
   "metadata": {},
   "source": [
    "A list comprehension is basically a one line for loop that produces a Python list data structure.m"
   ]
  },
  {
   "cell_type": "code",
   "execution_count": 1,
   "id": "fe4567e6",
   "metadata": {},
   "outputs": [],
   "source": [
    "x = [i for i in range(5)]"
   ]
  },
  {
   "cell_type": "code",
   "execution_count": 2,
   "id": "ed613dd7",
   "metadata": {},
   "outputs": [
    {
     "data": {
      "text/plain": [
       "[0, 1, 2, 3, 4]"
      ]
     },
     "execution_count": 2,
     "metadata": {},
     "output_type": "execute_result"
    }
   ],
   "source": [
    "x"
   ]
  },
  {
   "cell_type": "markdown",
   "id": "54dd6c9a",
   "metadata": {},
   "source": [
    "Say you want to apply a function to every element in a list"
   ]
  },
  {
   "cell_type": "code",
   "execution_count": 3,
   "id": "7fb63e22",
   "metadata": {},
   "outputs": [],
   "source": [
    "x = ['1', '2', '3', '4', '5']\n",
    "y = [int(i) for i in x]"
   ]
  },
  {
   "cell_type": "code",
   "execution_count": 4,
   "id": "2fc7f6ba",
   "metadata": {},
   "outputs": [
    {
     "data": {
      "text/plain": [
       "[1, 2, 3, 4, 5]"
      ]
     },
     "execution_count": 4,
     "metadata": {},
     "output_type": "execute_result"
    }
   ],
   "source": [
    "y"
   ]
  },
  {
   "cell_type": "markdown",
   "id": "972cbae7",
   "metadata": {},
   "source": [
    "There are also occasions where one needs to create a nested list comprehension.\n",
    "One reason to do that is to flatten multiple lists into one"
   ]
  },
  {
   "cell_type": "code",
   "execution_count": 5,
   "id": "21deee00",
   "metadata": {},
   "outputs": [
    {
     "data": {
      "text/plain": [
       "[1, 2, 3, 4, 5, 6, 7, 8, 9]"
      ]
     },
     "execution_count": 5,
     "metadata": {},
     "output_type": "execute_result"
    }
   ],
   "source": [
    "vec = [[1,2,3], [4,5,6], [7,8,9]]\n",
    "[num for elem in vec for num in elem]"
   ]
  },
  {
   "cell_type": "markdown",
   "id": "942dbd86",
   "metadata": {},
   "source": [
    "## Dictionary Comprehensions"
   ]
  },
  {
   "cell_type": "code",
   "execution_count": 6,
   "id": "5589cb52",
   "metadata": {},
   "outputs": [
    {
     "data": {
      "text/plain": [
       "{0: '0', 1: '1', 2: '2', 3: '3', 4: '4'}"
      ]
     },
     "execution_count": 6,
     "metadata": {},
     "output_type": "execute_result"
    }
   ],
   "source": [
    "{i:str(i) for i in range(5)}"
   ]
  },
  {
   "cell_type": "code",
   "execution_count": 9,
   "id": "ad636c8d",
   "metadata": {},
   "outputs": [
    {
     "data": {
      "text/plain": [
       "{'dog': 1, 'cat': 2, 'hamster': 3}"
      ]
     },
     "execution_count": 9,
     "metadata": {},
     "output_type": "execute_result"
    }
   ],
   "source": [
    "# This is a pretty straightforward comprehension. Basically it is creating an integer key and string value for each item in the range.\n",
    "my_dict = {1:\"dog\", 2:\"cat\", 3:\"hamster\"}\n",
    "{value:key for key,value in my_dict.items()}\n",
    "# This will only work if the dictionary values are of a non-mutable type, such as a string. Otherwise you will end up causing an exception to be raised.\n",
    "# But why?"
   ]
  },
  {
   "cell_type": "markdown",
   "id": "7548a491",
   "metadata": {},
   "source": [
    "## Set Comprehensions"
   ]
  },
  {
   "cell_type": "markdown",
   "id": "83ca1f44",
   "metadata": {},
   "source": [
    "Set comprehensions are created in much the same way as dictionary comprehensions."
   ]
  },
  {
   "cell_type": "code",
   "execution_count": 11,
   "id": "8b9017aa",
   "metadata": {},
   "outputs": [
    {
     "data": {
      "text/plain": [
       "{1, 2, 3, 4, 5, 7, 8}"
      ]
     },
     "execution_count": 11,
     "metadata": {},
     "output_type": "execute_result"
    }
   ],
   "source": [
    "my_list = [1, 2, 2, 3, 4, 5, 5, 7, 8]\n",
    "my_set = {x for x in my_list}\n",
    "my_set"
   ]
  },
  {
   "cell_type": "code",
   "execution_count": null,
   "id": "35fb1f11",
   "metadata": {},
   "outputs": [],
   "source": [
    "# Chapter 7: Exception Handeling"
   ]
  }
 ],
 "metadata": {
  "kernelspec": {
   "display_name": "Python 3",
   "language": "python",
   "name": "python3"
  },
  "language_info": {
   "codemirror_mode": {
    "name": "ipython",
    "version": 3
   },
   "file_extension": ".py",
   "mimetype": "text/x-python",
   "name": "python",
   "nbconvert_exporter": "python",
   "pygments_lexer": "ipython3",
   "version": "3.8.5"
  }
 },
 "nbformat": 4,
 "nbformat_minor": 5
}
